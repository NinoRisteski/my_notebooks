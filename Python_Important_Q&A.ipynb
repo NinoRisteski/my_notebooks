{
  "nbformat": 4,
  "nbformat_minor": 0,
  "metadata": {
    "colab": {
      "provenance": []
    },
    "kernelspec": {
      "name": "python3",
      "display_name": "Python 3"
    },
    "language_info": {
      "name": "python"
    }
  },
  "cells": [
    {
      "cell_type": "markdown",
      "source": [
        "1. What is **Mutable** and **Immutable** object?\n",
        "\n",
        "Everything in Python is object.\n",
        "\n",
        "- **Mutable object can be changed** after it's created while the **immutable object cannot be changed**.\n",
        "\n",
        "- Objects of built-in types like (int, float, bool, str, **tuple**, unicode) are **immutable**.\n",
        "\n",
        "- Objects of built-in types like (**list, set, dict**) are **mutable.**\n",
        "\n",
        "- Custom classes are generally mutable."
      ],
      "metadata": {
        "id": "BhU9c71Pw5ho"
      }
    },
    {
      "cell_type": "code",
      "execution_count": 2,
      "metadata": {
        "id": "X5cZH5zxwt3S"
      },
      "outputs": [],
      "source": [
        "# LISTS (MUTABLE)\n",
        "\n",
        "# Mutable, ordered collection\n",
        "features = ['age', 'height', 'weight']\n",
        "model_accuracies = [0.92, 0.94, 0.89, 0.91]\n",
        "\n",
        "# List operations\n",
        "features.append('bmi')\n",
        "features[0] = 'patient_age'\n",
        "\n",
        "######################\n",
        "\n",
        "# TUPLES (IMMUTABLE)\n",
        "\n",
        "# Immutable, ordered collection\n",
        "model_config = ('resnet50', 224, 3)  # (model_name, input_size, channels)\n",
        "dataset_shape = (1000, 28, 28)  # (samples, height, width)\n",
        "\n",
        "# Tuple unpacking\n",
        "model_name, size, channels = model_config\n",
        "\n",
        "######################\n",
        "\n",
        "# DICTS (MUTABLE)\n",
        "\n",
        "# Key-value pairs, mutable\n",
        "hyperparameters = {\n",
        "    'learning_rate': 0.001,\n",
        "    'batch_size': 32,\n",
        "    'epochs': 100\n",
        "}\n",
        "\n",
        "# Dictionary operations\n",
        "hyperparameters['dropout_rate'] = 0.5\n",
        "learning_rate = hyperparameters.get('learning_rate')\n",
        "\n",
        "######################\n",
        "\n",
        "# SETS (MUTABLE)\n",
        "\n",
        "# Unordered collection of unique elements\n",
        "unique_labels = {'cat', 'dog', 'bird'}\n",
        "train_classes = {'cat', 'dog', 'bird', 'cat'}  # duplicates removed automatically\n",
        "\n",
        "# Set operations\n",
        "new_class = {'fish'}\n",
        "all_classes = unique_labels.union(new_class)\n"
      ]
    },
    {
      "cell_type": "markdown",
      "source": [
        "2. **List comprehension** is a concise way to create lists in Python by combining a for loop with a conditional expression in a single line. It's particularly useful in data preprocessing and feature engineering tasks. List comprehensions are often more readable and faster than traditional for loops, especially for simple transformations and filtering operations commonly used in data preprocessing."
      ],
      "metadata": {
        "id": "qf_oOsae_4eI"
      }
    },
    {
      "cell_type": "code",
      "source": [
        "# General syntax\n",
        "new_list = [expression for item in iterable if condition]\n",
        "\n",
        "# Simple example - square numbers\n",
        "squares = [x**2 for x in range(10)]  # [0, 1, 4, 9, 16, 25, 36, 49, 64, 81]\n",
        "\n",
        "###########\n",
        "\n",
        "# Normalize features between 0 and 1\n",
        "features = [23, 45, 67, 89, 12]\n",
        "normalized = [(x - min(features)) / (max(features) - min(features))\n",
        "              for x in features]\n",
        "\n",
        "# Filter values above threshold\n",
        "threshold = 0.5\n",
        "filtered_probs = [prob for prob in predictions if prob > threshold]\n",
        "\n",
        "# Create one-hot encoded labels\n",
        "labels = ['cat', 'dog', 'bird']\n",
        "one_hot = [1 if label == 'cat' else 0 for label in labels]\n",
        "\n",
        "# Extract specific features from nested data\n",
        "data = [{'name': 'sample1', 'value': 0.5},\n",
        "        {'name': 'sample2', 'value': 0.7}]\n",
        "values = [x['value'] for x in data]\n",
        "\n"
      ],
      "metadata": {
        "id": "ZMWaT2vE9Yh9"
      },
      "execution_count": null,
      "outputs": []
    },
    {
      "cell_type": "markdown",
      "source": [
        "3. The **zip() function** in Python is a built-in function that combines elements from multiple iterables into tuples, creating an iterator of paired elements. It pairs corresponding elements from each iterable based on their index positions. The zip() function is particularly useful in data processing, feature engineering, and when you need to process multiple related sequences simultaneously."
      ],
      "metadata": {
        "id": "wDE6cq57BJil"
      }
    },
    {
      "cell_type": "code",
      "source": [
        "# Basic zip example\n",
        "names = [\"Alice\", \"Bob\", \"Charlie\"]\n",
        "ages = [25, 30, 35]\n",
        "zipped = zip(names, ages)\n",
        "print(list(zipped))  # [('Alice', 25), ('Bob', 30), ('Charlie', 35)]\n"
      ],
      "metadata": {
        "id": "tFsk6FibBgWG"
      },
      "execution_count": null,
      "outputs": []
    },
    {
      "cell_type": "markdown",
      "source": [
        "4. An **iterator** in Python is an object that implements the iterator protocol through iter() and next() methods, allowing you to traverse through a collection of elements one at a time. Iterators are memory-efficient as they don't load all elements into memory at once, making them particularly useful when dealing with large datasets or infinite sequences in machine learning applications."
      ],
      "metadata": {
        "id": "oc6sdfLyBzSH"
      }
    },
    {
      "cell_type": "code",
      "source": [
        "# Creating a simple iterator\n",
        "my_list = [1, 2, 3, 4, 5]\n",
        "iterator = iter(my_list)\n",
        "\n",
        "# Using next() to get elements\n",
        "print(next(iterator))  # 1\n",
        "print(next(iterator))  # 2\n",
        "# When elements are exhausted, raises StopIteration\n"
      ],
      "metadata": {
        "colab": {
          "base_uri": "https://localhost:8080/"
        },
        "id": "lN0jrMcVB5l2",
        "outputId": "f35de00d-f105-467a-e1f4-cb3b261345a9"
      },
      "execution_count": 4,
      "outputs": [
        {
          "output_type": "stream",
          "name": "stdout",
          "text": [
            "1\n",
            "2\n"
          ]
        }
      ]
    },
    {
      "cell_type": "markdown",
      "source": [
        "5. A **decorator** is a design pattern in Python that allows you to modify or extend the functionality of a function without changing its source code. It wraps a function with another function to add new behaviors.\n",
        "\n",
        "Key Points:\n",
        "\n",
        "Decorators take a function as input and return a modified function\n",
        "\n",
        "They use the @ syntax for easy application\n",
        "\n",
        "They can be stacked on top of each other\n",
        "\n",
        "Common uses include logging, timing, access control, and caching"
      ],
      "metadata": {
        "id": "gqrJly5oCYeH"
      }
    },
    {
      "cell_type": "code",
      "source": [
        "def my_decorator(func):\n",
        "    def wrapper():\n",
        "        print(\"Before function execution\")\n",
        "        func()\n",
        "        print(\"After function execution\")\n",
        "    return wrapper\n",
        "\n",
        "@my_decorator\n",
        "def hello():\n",
        "    print(\"Hello World!\")\n",
        "\n",
        "# When called\n",
        "hello()\n",
        "# Output:\n",
        "# Before function execution\n",
        "# Hello World!\n",
        "# After function execution\n"
      ],
      "metadata": {
        "colab": {
          "base_uri": "https://localhost:8080/"
        },
        "id": "ms5XvQOUC74g",
        "outputId": "8e17247b-5ea7-4bf6-ecb1-d23cd8282189"
      },
      "execution_count": 5,
      "outputs": [
        {
          "output_type": "stream",
          "name": "stdout",
          "text": [
            "Before function execution\n",
            "Hello World!\n",
            "After function execution\n"
          ]
        }
      ]
    },
    {
      "cell_type": "markdown",
      "source": [
        "6. The **split() function** in Python is a string method that breaks down a string into a list of substrings based on a specified delimiter. The split() method is particularly useful for text processing, parsing data, and converting structured strings into manageable lists for further processing."
      ],
      "metadata": {
        "id": "0z3VKO7hDOPR"
      }
    },
    {
      "cell_type": "code",
      "source": [
        "# Basic split with whitespace\n",
        "text = \"Python is fun\"\n",
        "print(text.split())  # ['Python', 'is', 'fun'][1]\n",
        "\n",
        "# Split with custom delimiter\n",
        "grocery = \"Milk, Chicken, Bread\"\n",
        "print(grocery.split(', '))  # ['Milk', 'Chicken', 'Bread'][1]\n",
        "\n",
        "# Split with maxsplit\n",
        "text = \"apple#banana#cherry#orange\"\n",
        "print(text.split('#', 2))  # ['apple', 'banana', 'cherry#orange'][1]\n"
      ],
      "metadata": {
        "colab": {
          "base_uri": "https://localhost:8080/"
        },
        "id": "nRvHQGZqDb9y",
        "outputId": "57924c69-dbbe-4799-9d94-0a2dae9bd36a"
      },
      "execution_count": 6,
      "outputs": [
        {
          "output_type": "stream",
          "name": "stdout",
          "text": [
            "['Python', 'is', 'fun']\n",
            "['Milk', 'Chicken', 'Bread']\n",
            "['apple', 'banana', 'cherry#orange']\n"
          ]
        }
      ]
    },
    {
      "cell_type": "markdown",
      "source": [
        "7. A **lambda function** is a small, anonymous function in Python that can be defined in a single line.\n",
        "\n",
        "Key Characteristics:\n",
        "\n",
        "Takes any number of arguments but only one expression\n",
        "\n",
        "Automatically returns the expression result\n",
        "\n",
        "Ideal for simple operations and temporary functions\n",
        "\n",
        "Commonly used with map(), filter(), and sorted() functions\n",
        "\n",
        "\n",
        "Best Practices:\n",
        "\n",
        "Use for simple, one-line operations\n",
        "\n",
        "Avoid for complex logic or functions requiring documentation\n",
        "\n",
        "Perfect for operations that won't be reused elsewhere in the code"
      ],
      "metadata": {
        "id": "R3b1mY6iEmy2"
      }
    },
    {
      "cell_type": "code",
      "source": [
        "numbers = [1, 2, 3, 4, 5]\n",
        "squared = list(map(lambda x: x**2, numbers))\n",
        "print(squared)  # Output: [1, 4, 9, 16, 25]\n",
        "\n",
        "\n",
        "numbers = [1, 2, 3, 4, 5, 6]\n",
        "even_numbers = list(filter(lambda x: x % 2 == 0, numbers))\n",
        "print(even_numbers)  # Output: [2, 4, 6]\n",
        "\n",
        "\n",
        "# Sort dictionary by value\n",
        "employees = [\n",
        "    {'name': 'John', 'salary': 50000},\n",
        "    {'name': 'Jane', 'salary': 55000}\n",
        "]\n",
        "sorted_employees = sorted(employees, key=lambda x: x['salary'])\n"
      ],
      "metadata": {
        "id": "7_Zjmsh_E6s9"
      },
      "execution_count": null,
      "outputs": []
    }
  ]
}