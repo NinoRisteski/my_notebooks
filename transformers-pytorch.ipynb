{
 "cells": [
  {
   "cell_type": "code",
   "execution_count": 1,
   "metadata": {},
   "outputs": [
    {
     "name": "stdout",
     "output_type": "stream",
     "text": [
      "Requirement already satisfied: pytorch-lightning in ./env/lib/python3.9/site-packages (2.4.0)\n",
      "Requirement already satisfied: typing-extensions>=4.4.0 in ./env/lib/python3.9/site-packages (from pytorch-lightning) (4.12.2)\n",
      "Requirement already satisfied: torch>=2.1.0 in ./env/lib/python3.9/site-packages (from pytorch-lightning) (2.2.2)\n",
      "Requirement already satisfied: packaging>=20.0 in ./env/lib/python3.9/site-packages (from pytorch-lightning) (24.1)\n",
      "Requirement already satisfied: PyYAML>=5.4 in ./env/lib/python3.9/site-packages (from pytorch-lightning) (6.0.2)\n",
      "Requirement already satisfied: fsspec[http]>=2022.5.0 in ./env/lib/python3.9/site-packages (from pytorch-lightning) (2024.10.0)\n",
      "Requirement already satisfied: tqdm>=4.57.0 in ./env/lib/python3.9/site-packages (from pytorch-lightning) (4.66.5)\n",
      "Requirement already satisfied: torchmetrics>=0.7.0 in ./env/lib/python3.9/site-packages (from pytorch-lightning) (1.5.1)\n",
      "Requirement already satisfied: lightning-utilities>=0.10.0 in ./env/lib/python3.9/site-packages (from pytorch-lightning) (0.11.8)\n",
      "Requirement already satisfied: aiohttp!=4.0.0a0,!=4.0.0a1 in ./env/lib/python3.9/site-packages (from fsspec[http]>=2022.5.0->pytorch-lightning) (3.10.10)\n",
      "Requirement already satisfied: async-timeout<5.0,>=4.0 in ./env/lib/python3.9/site-packages (from aiohttp!=4.0.0a0,!=4.0.0a1->fsspec[http]>=2022.5.0->pytorch-lightning) (4.0.3)\n",
      "Requirement already satisfied: yarl<2.0,>=1.12.0 in ./env/lib/python3.9/site-packages (from aiohttp!=4.0.0a0,!=4.0.0a1->fsspec[http]>=2022.5.0->pytorch-lightning) (1.16.0)\n",
      "Requirement already satisfied: aiohappyeyeballs>=2.3.0 in ./env/lib/python3.9/site-packages (from aiohttp!=4.0.0a0,!=4.0.0a1->fsspec[http]>=2022.5.0->pytorch-lightning) (2.4.3)\n",
      "Requirement already satisfied: attrs>=17.3.0 in ./env/lib/python3.9/site-packages (from aiohttp!=4.0.0a0,!=4.0.0a1->fsspec[http]>=2022.5.0->pytorch-lightning) (24.2.0)\n",
      "Requirement already satisfied: multidict<7.0,>=4.5 in ./env/lib/python3.9/site-packages (from aiohttp!=4.0.0a0,!=4.0.0a1->fsspec[http]>=2022.5.0->pytorch-lightning) (6.1.0)\n",
      "Requirement already satisfied: frozenlist>=1.1.1 in ./env/lib/python3.9/site-packages (from aiohttp!=4.0.0a0,!=4.0.0a1->fsspec[http]>=2022.5.0->pytorch-lightning) (1.5.0)\n",
      "Requirement already satisfied: aiosignal>=1.1.2 in ./env/lib/python3.9/site-packages (from aiohttp!=4.0.0a0,!=4.0.0a1->fsspec[http]>=2022.5.0->pytorch-lightning) (1.3.1)\n",
      "Requirement already satisfied: setuptools in ./env/lib/python3.9/site-packages (from lightning-utilities>=0.10.0->pytorch-lightning) (56.0.0)\n",
      "Requirement already satisfied: sympy in ./env/lib/python3.9/site-packages (from torch>=2.1.0->pytorch-lightning) (1.13.3)\n",
      "Requirement already satisfied: networkx in ./env/lib/python3.9/site-packages (from torch>=2.1.0->pytorch-lightning) (3.2.1)\n",
      "Requirement already satisfied: jinja2 in ./env/lib/python3.9/site-packages (from torch>=2.1.0->pytorch-lightning) (3.1.4)\n",
      "Requirement already satisfied: filelock in ./env/lib/python3.9/site-packages (from torch>=2.1.0->pytorch-lightning) (3.16.1)\n",
      "Requirement already satisfied: numpy<2.0,>1.20.0 in ./env/lib/python3.9/site-packages (from torchmetrics>=0.7.0->pytorch-lightning) (1.26.4)\n",
      "Requirement already satisfied: idna>=2.0 in ./env/lib/python3.9/site-packages (from yarl<2.0,>=1.12.0->aiohttp!=4.0.0a0,!=4.0.0a1->fsspec[http]>=2022.5.0->pytorch-lightning) (3.10)\n",
      "Requirement already satisfied: propcache>=0.2.0 in ./env/lib/python3.9/site-packages (from yarl<2.0,>=1.12.0->aiohttp!=4.0.0a0,!=4.0.0a1->fsspec[http]>=2022.5.0->pytorch-lightning) (0.2.0)\n",
      "Requirement already satisfied: MarkupSafe>=2.0 in ./env/lib/python3.9/site-packages (from jinja2->torch>=2.1.0->pytorch-lightning) (3.0.2)\n",
      "Requirement already satisfied: mpmath<1.4,>=1.1.0 in ./env/lib/python3.9/site-packages (from sympy->torch>=2.1.0->pytorch-lightning) (1.3.0)\n",
      "\u001b[33mWARNING: You are using pip version 21.1.3; however, version 24.2 is available.\n",
      "You should consider upgrading via the '/Users/fliprise/my_notebooks/env/bin/python -m pip install --upgrade pip' command.\u001b[0m\n",
      "Note: you may need to restart the kernel to use updated packages.\n"
     ]
    }
   ],
   "source": [
    "%pip install torch\n",
    "%pip install pytorch-lightning"
   ]
  },
  {
   "cell_type": "code",
   "execution_count": 2,
   "metadata": {},
   "outputs": [],
   "source": [
    "import random\n",
    "import math\n",
    "import numpy as np\n",
    "import torch\n",
    "from torch import nn\n",
    "import torch.nn.functional as F\n",
    "import pytorch_lightning as pl"
   ]
  },
  {
   "cell_type": "code",
   "execution_count": null,
   "metadata": {},
   "outputs": [],
   "source": [
    "# Base Data Module for PyTorch Lightning\n",
    "\n",
    "class BaseDataModule(pl.LightningDataModule):\n",
    "    def __init__(self, batch_size=32, split=0.8, *args, **kwargs):\n",
    "        super().__init__()\n",
    "        \n",
    "        # Get the dataset using the get_dataset method (to be implemented in subclasses)\n",
    "        self.ds_x, self.ds_y = self.get_dataset(*args, **kwargs)\n",
    "        \n",
    "        # Create a random permutation of indices to shuffle the dataset\n",
    "        shuffler = np.random.permutation(self.ds_x.shape[0])\n",
    "        \n",
    "        # Shuffle both input features (ds_x) and labels (ds_y) using the same permutation\n",
    "        self.ds_x = self.ds_x[shuffler]\n",
    "        self.ds_y = self.ds_y[shuffler]\n",
    "        \n",
    "        # Set the batch size for data loading\n",
    "        self.batch_size = batch_size\n",
    "        \n",
    "        # Calculate the split index for train/validation sets\n",
    "        # split is a float between 0 and 1, representing the proportion of data for training\n",
    "        self.split = int(self.ds_x.shape[0] * split)\n",
    "\n",
    "    def train_dataloader(self):\n",
    "        ds_X_train, ds_Y_train = self.ds_x[0:self.split], self.ds_y[0:self.split]\n",
    "        return torch.utils.data.DataLoader(list(zip(ds_X_train, ds_Y_train)), batch_size=self.batch_size)\n",
    "\n"
   ]
  }
 ],
 "metadata": {
  "kernelspec": {
   "display_name": "env",
   "language": "python",
   "name": "python3"
  },
  "language_info": {
   "codemirror_mode": {
    "name": "ipython",
    "version": 3
   },
   "file_extension": ".py",
   "mimetype": "text/x-python",
   "name": "python",
   "nbconvert_exporter": "python",
   "pygments_lexer": "ipython3",
   "version": "3.9.6"
  }
 },
 "nbformat": 4,
 "nbformat_minor": 2
}
