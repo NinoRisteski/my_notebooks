{
 "cells": [
  {
   "cell_type": "code",
   "execution_count": 1,
   "metadata": {},
   "outputs": [
    {
     "name": "stdout",
     "output_type": "stream",
     "text": [
      "Collecting git+https://github.com/tinygrad/tinygrad.git\n",
      "  Cloning https://github.com/tinygrad/tinygrad.git to /private/var/folders/x4/ygyvps6n5rdf76sm9_9t__gw0000gn/T/pip-req-build-cljughaa\n",
      "  Running command git clone --filter=blob:none --quiet https://github.com/tinygrad/tinygrad.git /private/var/folders/x4/ygyvps6n5rdf76sm9_9t__gw0000gn/T/pip-req-build-cljughaa\n",
      "  Resolved https://github.com/tinygrad/tinygrad.git to commit e2b380b743a3e938a8505a4df652765c9dae74ce\n",
      "  Preparing metadata (setup.py) ... \u001b[?25ldone\n",
      "\u001b[?25h\n",
      "\u001b[1m[\u001b[0m\u001b[34;49mnotice\u001b[0m\u001b[1;39;49m]\u001b[0m\u001b[39;49m A new release of pip is available: \u001b[0m\u001b[31;49m24.0\u001b[0m\u001b[39;49m -> \u001b[0m\u001b[32;49m24.3.1\u001b[0m\n",
      "\u001b[1m[\u001b[0m\u001b[34;49mnotice\u001b[0m\u001b[1;39;49m]\u001b[0m\u001b[39;49m To update, run: \u001b[0m\u001b[32;49mpip install --upgrade pip\u001b[0m\n",
      "Note: you may need to restart the kernel to use updated packages.\n"
     ]
    }
   ],
   "source": [
    "%pip install git+https://github.com/tinygrad/tinygrad.git\n"
   ]
  },
  {
   "cell_type": "code",
   "execution_count": 2,
   "metadata": {},
   "outputs": [
    {
     "name": "stdout",
     "output_type": "stream",
     "text": [
      "CLANG\n"
     ]
    }
   ],
   "source": [
    "from tinygrad import Device\n",
    "Device.DEFAULT = \"CLANG\" \n",
    "print(Device.DEFAULT)"
   ]
  },
  {
   "cell_type": "code",
   "execution_count": 3,
   "metadata": {},
   "outputs": [],
   "source": [
    "from tinygrad import Tensor, nn\n",
    "\n",
    "class Model:\n",
    "  def __init__(self):\n",
    "    self.l1 = nn.Conv2d(1, 32, kernel_size=(3,3))\n",
    "    self.l2 = nn.Conv2d(32, 64, kernel_size=(3,3))\n",
    "    self.l3 = nn.Linear(1600, 10)\n",
    "\n",
    "  def __call__(self, x:Tensor) -> Tensor:\n",
    "    x = self.l1(x).relu().max_pool2d((2,2))\n",
    "    x = self.l2(x).relu().max_pool2d((2,2))\n",
    "    return self.l3(x.flatten(1).dropout(0.5))"
   ]
  },
  {
   "cell_type": "code",
   "execution_count": 4,
   "metadata": {},
   "outputs": [
    {
     "name": "stdout",
     "output_type": "stream",
     "text": [
      "(60000, 1, 28, 28) dtypes.uchar (60000,) dtypes.uchar\n"
     ]
    }
   ],
   "source": [
    "from tinygrad.nn.datasets import mnist\n",
    "X_train, Y_train, X_test, Y_test = mnist()\n",
    "print(X_train.shape, X_train.dtype, Y_train.shape, Y_train.dtype)\n",
    "# (60000, 1, 28, 28) dtypes.uchar (60000,) dtypes.uchar"
   ]
  },
  {
   "cell_type": "code",
   "execution_count": 5,
   "metadata": {},
   "outputs": [
    {
     "name": "stdout",
     "output_type": "stream",
     "text": [
      "0.09709999710321426\n"
     ]
    }
   ],
   "source": [
    "model = Model()\n",
    "acc = (model(X_test).argmax(axis=1) == Y_test).mean()\n",
    "# NOTE: tinygrad is lazy, and hasn't actually run anything by this point\n",
    "print(acc.item())  # ~10% accuracy, as expected from a random model"
   ]
  },
  {
   "cell_type": "code",
   "execution_count": 6,
   "metadata": {},
   "outputs": [],
   "source": [
    "optim = nn.optim.Adam(nn.state.get_parameters(model))\n",
    "batch_size = 128\n",
    "def step():\n",
    "  Tensor.training = True  # makes dropout work\n",
    "  samples = Tensor.randint(batch_size, high=X_train.shape[0])\n",
    "  X, Y = X_train[samples], Y_train[samples]\n",
    "  optim.zero_grad()\n",
    "  loss = model(X).sparse_categorical_crossentropy(Y).backward()\n",
    "  optim.step()\n",
    "  return loss"
   ]
  },
  {
   "cell_type": "code",
   "execution_count": 7,
   "metadata": {},
   "outputs": [
    {
     "data": {
      "text/plain": [
       "[6.141228911001235,\n",
       " 3.917855568928644,\n",
       " 3.409235392929986,\n",
       " 3.7306120509747416,\n",
       " 4.309540601912886]"
      ]
     },
     "execution_count": 7,
     "metadata": {},
     "output_type": "execute_result"
    }
   ],
   "source": [
    "import timeit\n",
    "timeit.repeat(step, repeat=5, number=1)"
   ]
  },
  {
   "cell_type": "code",
   "execution_count": 8,
   "metadata": {},
   "outputs": [
    {
     "name": "stdout",
     "output_type": "stream",
     "text": [
      "scheduled 45 kernels\n",
      "*** CLANG      1 E_\u001b[90mn11\u001b[0m                                     arg  1 mem  0.06 GB tm      6.07us/     0.01ms (     0.00 GFLOPS    0.0|0.0     GB/s) ['__imul__']\n",
      "*** CLANG      2 E_\u001b[90mn12\u001b[0m                                     arg  1 mem  0.06 GB tm      2.38us/     0.01ms (     0.00 GFLOPS    0.0|0.0     GB/s) ['__imul__']\n",
      "*** CLANG      3 E_\u001b[90mn6\u001b[0m                                      arg  1 mem  0.06 GB tm      2.74us/     0.01ms (     0.00 GFLOPS    0.0|0.0     GB/s) ['randint']\n",
      "*** CLANG      4 r_\u001b[34m20000\u001b[0m\u001b[90m_\u001b[0m\u001b[31m15000\u001b[0m\u001b[90m_\u001b[0m\u001b[33m3\u001b[0m\u001b[90m_\u001b[0m\u001b[35m4\u001b[0m\u001b[90m\u001b[0m                         arg  1 mem  0.06 GB tm     28.80us/     0.04ms (     0.00 GFLOPS    8.3|8.3     GB/s) ['__getitem__']\n",
      "*** CLANG      5 r_\u001b[34m10\u001b[0m\u001b[90m_\u001b[0m\u001b[35m10\u001b[0m\u001b[90mn1\u001b[0m                                 arg  1 mem  0.06 GB tm      2.55us/     0.04ms (     0.14 GFLOPS    0.0|0.0     GB/s) ['sparse_categorical_crossentropy']\n",
      "*** CLANG      6 E_\u001b[90mn10\u001b[0m                                     arg  2 mem  0.06 GB tm      2.89us/     0.05ms (     0.00 GFLOPS    0.0|0.0     GB/s) ['__rsub__']\n",
      "*** CLANG      7 E_\u001b[90mn10\u001b[0m                                     arg  2 mem  0.06 GB tm      1.66us/     0.05ms (     0.00 GFLOPS    0.0|0.0     GB/s) ['__rsub__']\n",
      "*** CLANG      8 E_\u001b[90mn9\u001b[0m                                      arg  2 mem  0.06 GB tm      2.23us/     0.05ms (     0.00 GFLOPS    0.0|0.0     GB/s) ['dropout']\n",
      "*** CLANG      9 r_\u001b[34m64\u001b[0m\u001b[90m_\u001b[0m\u001b[31m16\u001b[0m\u001b[90m_\u001b[0m\u001b[35m4\u001b[0m\u001b[90m\u001b[0m                                 arg  2 mem  0.06 GB tm      2.45us/     0.05ms (     0.34 GFLOPS    0.1|0.1     GB/s) ['randint']\n",
      "*** CLANG     10 r_\u001b[34m25600\u001b[0m\u001b[90m_\u001b[0m\u001b[31m25600\u001b[0m\u001b[90m_\u001b[0m\u001b[33m4\u001b[0m\u001b[90m_\u001b[0m\u001b[35m4\u001b[0m\u001b[90m\u001b[0m                         arg  2 mem  0.06 GB tm     34.97us/     0.09ms (    12.44 GFLOPS   11.7|11.7    GB/s) ['dropout']\n",
      "*** CLANG     11 E_\u001b[34m16\u001b[0m\u001b[90m_\u001b[0m\u001b[33m4\u001b[0m\u001b[90mn3\u001b[0m                                  arg  3 mem  0.06 GB tm      3.66us/     0.09ms (     2.57 GFLOPS    0.1|0.1     GB/s) ['randint']\n",
      "*** CLANG     12 E_\u001b[34m25600\u001b[0m\u001b[90m_\u001b[0m\u001b[33m4\u001b[0m\u001b[90m\u001b[0m                                 arg  3 mem  0.06 GB tm    354.25us/     0.44ms (    42.49 GFLOPS    2.3|2.3     GB/s) ['dropout']\n",
      "*** CLANG     13 E_\u001b[34m32\u001b[0m\u001b[90m_\u001b[0m\u001b[33m4\u001b[0m\u001b[90m\u001b[0m                                    arg  4 mem  0.06 GB tm      4.27us/     0.45ms (     4.31 GFLOPS    0.2|0.4     GB/s) ['randint']\n",
      "*** CLANG     14 E_\u001b[34m128\u001b[0m\u001b[90m_\u001b[0m\u001b[34m400\u001b[0m\u001b[90m_\u001b[0m\u001b[33m4\u001b[0m\u001b[90m\u001b[0m                               arg  4 mem  0.06 GB tm   2433.25us/     2.88ms (    12.04 GFLOPS    0.4|0.8     GB/s) ['dropout']\n",
      "*** CLANG     15 E_\u001b[34m32\u001b[0m\u001b[90m_\u001b[0m\u001b[33m4\u001b[0m\u001b[90mn1\u001b[0m                                  arg  2 mem  0.06 GB tm      3.32us/     2.89ms (     0.15 GFLOPS    0.3|0.3     GB/s) ['randint', '__getitem__']\n",
      "*** CLANG     16 r_\u001b[34m32\u001b[0m\u001b[90m_\u001b[0m\u001b[34m196\u001b[0m\u001b[90m_\u001b[0m\u001b[34m40\u001b[0m\u001b[90m_\u001b[0m\u001b[31m375\u001b[0m\u001b[90m_\u001b[0m\u001b[33m4\u001b[0m\u001b[90m_\u001b[0m\u001b[33m4\u001b[0m\u001b[90m_\u001b[0m\u001b[35m4\u001b[0m\u001b[90m\u001b[0m                     arg  4 mem  0.06 GB tm \u001b[33m  3060.21ms\u001b[0m/  3063.10ms (     4.92 GFLOPS    0.0|1.0     GB/s) ['__getitem__']\n",
      "*** CLANG     17 r_\u001b[34m32\u001b[0m\u001b[90m_\u001b[0m\u001b[34m250\u001b[0m\u001b[90m_\u001b[0m\u001b[31m60\u001b[0m\u001b[90m_\u001b[0m\u001b[33m4\u001b[0m\u001b[90m_\u001b[0m\u001b[35m4\u001b[0m\u001b[90m\u001b[0m                           arg  4 mem  0.06 GB tm   2569.80us/  3065.67ms (    11.95 GFLOPS    0.1|3.7     GB/s) ['__getitem__']\n",
      "*** CLANG     18 r_\u001b[34m100352\u001b[0m\u001b[90m_\u001b[0m\u001b[31m10\u001b[0m\u001b[90m_\u001b[0m\u001b[35m4\u001b[0m\u001b[90m\u001b[0m                             arg  2 mem  0.06 GB tm   1402.88us/  3067.07ms (     2.86 GFLOPS    2.9|2.9     GB/s) ['__getitem__']\n",
      "*** CLANG     19 r_\u001b[34m128\u001b[0m\u001b[90m_\u001b[0m\u001b[31m250\u001b[0m\u001b[90m\u001b[0m                                 arg  2 mem  0.06 GB tm     11.42us/  3067.08ms (     2.80 GFLOPS    2.8|2.8     GB/s) ['__getitem__', 'sparse_categorical_crossentropy']\n",
      "*** CLANG     20 r_\u001b[34m32\u001b[0m\u001b[90m_\u001b[0m\u001b[34m8\u001b[0m\u001b[90m_\u001b[0m\u001b[34m26\u001b[0m\u001b[90m_\u001b[0m\u001b[34m26\u001b[0m\u001b[90m_\u001b[0m\u001b[33m4\u001b[0m\u001b[90m_\u001b[0m\u001b[33m4\u001b[0m\u001b[90m_\u001b[0m\u001b[35m3\u001b[0m\u001b[90m_\u001b[0m\u001b[35m3\u001b[0m\u001b[90m\u001b[0m                      arg  4 mem  0.07 GB tm   3930.59us/  3071.01ms (    12.68 GFLOPS    2.8|4.4     GB/s) ['conv2d']\n",
      "*** CLANG     21 r_\u001b[34m13312\u001b[0m\u001b[90m_\u001b[0m\u001b[34m13\u001b[0m\u001b[90m_\u001b[0m\u001b[33m4\u001b[0m\u001b[90m_\u001b[0m\u001b[35m2\u001b[0m\u001b[90m_\u001b[0m\u001b[35m2\u001b[0m\u001b[90m\u001b[0m                          arg  2 mem  0.07 GB tm   1474.49us/  3072.49ms (     6.57 GFLOPS    9.4|9.4     GB/s) ['relu', 'max_pool2d']\n",
      "*** CLANG     22 r_\u001b[34m13312\u001b[0m\u001b[90m_\u001b[0m\u001b[34m13\u001b[0m\u001b[90m_\u001b[0m\u001b[33m4\u001b[0m\u001b[90m_\u001b[0m\u001b[35m2\u001b[0m\u001b[90m_\u001b[0m\u001b[35m2\u001b[0m\u001b[90mn1\u001b[0m                        arg  3 mem  0.07 GB tm   2475.59us/  3074.96ms (     5.31 GFLOPS    6.7|6.7     GB/s) ['relu', 'max_pool2d bw']\n",
      "*** CLANG     23 r_\u001b[34m32\u001b[0m\u001b[90m_\u001b[0m\u001b[34m16\u001b[0m\u001b[90m_\u001b[0m\u001b[34m11\u001b[0m\u001b[90m_\u001b[0m\u001b[34m11\u001b[0m\u001b[90m_\u001b[0m\u001b[31m32\u001b[0m\u001b[90m_\u001b[0m\u001b[33m4\u001b[0m\u001b[90m_\u001b[0m\u001b[33m4\u001b[0m\u001b[90m_\u001b[0m\u001b[35m3\u001b[0m\u001b[90m_\u001b[0m\u001b[35m3\u001b[0m\u001b[90m\u001b[0m                  arg  4 mem  0.08 GB tm \u001b[33m   142.24ms\u001b[0m/  3217.20ms (     4.02 GFLOPS    0.0|4.0     GB/s) ['conv2d']\n",
      "*** CLANG     24 r_\u001b[34m2048\u001b[0m\u001b[90m_\u001b[0m\u001b[34m5\u001b[0m\u001b[90m_\u001b[0m\u001b[34m5\u001b[0m\u001b[90m_\u001b[0m\u001b[33m4\u001b[0m\u001b[90m_\u001b[0m\u001b[35m2\u001b[0m\u001b[90m_\u001b[0m\u001b[35m2\u001b[0m\u001b[90m\u001b[0m                          arg  2 mem  0.08 GB tm    574.52us/  3217.77ms (     4.99 GFLOPS    7.1|7.1     GB/s) ['relu', 'max_pool2d']\n",
      "*** CLANG     25 r_\u001b[34m2048\u001b[0m\u001b[90m_\u001b[0m\u001b[34m5\u001b[0m\u001b[90m_\u001b[0m\u001b[34m5\u001b[0m\u001b[90m_\u001b[0m\u001b[33m4\u001b[0m\u001b[90m_\u001b[0m\u001b[35m2\u001b[0m\u001b[90m_\u001b[0m\u001b[35m2\u001b[0m\u001b[90mn1\u001b[0m                        arg  3 mem  0.08 GB tm    920.30us/  3218.69ms (     4.23 GFLOPS    5.3|5.3     GB/s) ['relu', 'max_pool2d bw']\n",
      "*** CLANG     26 E_\u001b[34m51200\u001b[0m\u001b[90m_\u001b[0m\u001b[33m4\u001b[0m\u001b[90m\u001b[0m                                 arg  3 mem  0.08 GB tm    114.62us/  3218.81ms (     3.57 GFLOPS   16.1|16.1    GB/s) ['dropout']\n",
      "*** CLANG     27 r_\u001b[34m32\u001b[0m\u001b[90m_\u001b[0m\u001b[34m10\u001b[0m\u001b[90m_\u001b[0m\u001b[31m400\u001b[0m\u001b[90m_\u001b[0m\u001b[33m4\u001b[0m\u001b[90m_\u001b[0m\u001b[35m4\u001b[0m\u001b[90m\u001b[0m                           arg  4 mem  0.08 GB tm    810.53us/  3219.62ms (     5.06 GFLOPS    1.1|12.6    GB/s) ['linear']\n",
      "*** CLANG     28 r_\u001b[34m128\u001b[0m\u001b[90m_\u001b[0m\u001b[35m10\u001b[0m\u001b[90m\u001b[0m                                  arg  2 mem  0.08 GB tm      3.25us/  3219.62ms (     0.71 GFLOPS    1.7|1.7     GB/s) ['sparse_categorical_crossentropy']\n",
      "*** CLANG     29 r_\u001b[34m128\u001b[0m\u001b[90m_\u001b[0m\u001b[35m10\u001b[0m\u001b[90mn1\u001b[0m                                arg  3 mem  0.08 GB tm     15.54us/  3219.64ms (     3.20 GFLOPS    0.4|0.4     GB/s) ['sparse_categorical_crossentropy']\n",
      "*** CLANG     30 r_\u001b[34m128\u001b[0m\u001b[90m_\u001b[0m\u001b[35m10\u001b[0m\u001b[90mn2\u001b[0m                                arg  4 mem  0.08 GB tm      3.08us/  3219.64ms (     1.70 GFLOPS    0.5|0.5     GB/s) ['sparse_categorical_crossentropy', 'sparse_categorical_crossentropy bw']\n",
      "*** CLANG     31 E_\u001b[34m32\u001b[0m\u001b[90m_\u001b[0m\u001b[34m10\u001b[0m\u001b[90m_\u001b[0m\u001b[33m4\u001b[0m\u001b[90m\u001b[0m                                 arg  6 mem  0.08 GB tm      9.61us/  3219.65ms (     5.72 GFLOPS    1.2|1.4     GB/s) ['sparse_categorical_crossentropy', 'sparse_categorical_crossentropy bw', '__add__']\n",
      "*** CLANG     32 r_\u001b[34m32\u001b[0m\u001b[90m_\u001b[0m\u001b[34m400\u001b[0m\u001b[90m_\u001b[0m\u001b[33m4\u001b[0m\u001b[90m_\u001b[0m\u001b[33m4\u001b[0m\u001b[90m_\u001b[0m\u001b[35m10\u001b[0m\u001b[90m\u001b[0m                           arg  4 mem  0.08 GB tm   1793.93us/  3221.44ms (     2.40 GFLOPS    0.6|1.7     GB/s) ['linear bw', 'dropout bw']\n",
      "*** CLANG     33 r3_\u001b[34m10\u001b[0m\u001b[90m_\u001b[0m\u001b[31m32\u001b[0m\u001b[90m_\u001b[0m\u001b[35m4\u001b[0m\u001b[90mn1\u001b[0m                              arg  7 mem  0.08 GB tm      6.52us/  3221.45ms (     0.22 GFLOPS    0.8|0.8     GB/s) ['__rmul__', 'linear bw', '__add__', 'assign', '__mul__', '__truediv__', 'sqrt', '__sub__']\n",
      "*** CLANG     34 r3_\u001b[34m10\u001b[0m\u001b[90m_\u001b[0m\u001b[34m400\u001b[0m\u001b[90m_\u001b[0m\u001b[31m32\u001b[0m\u001b[90m_\u001b[0m\u001b[33m4\u001b[0m\u001b[90m_\u001b[0m\u001b[35m4\u001b[0m\u001b[90mn1\u001b[0m                        arg  8 mem  0.08 GB tm    969.58us/  3222.42ms (     4.47 GFLOPS    1.2|11.0    GB/s) ['__rmul__', 'linear bw', '__add__', 'assign', '__mul__', '__truediv__', 'sqrt', '__sub__']\n",
      "*** CLANG     35 E_\u001b[34m2048\u001b[0m\u001b[90m_\u001b[0m\u001b[34m5\u001b[0m\u001b[90m_\u001b[0m\u001b[34m5\u001b[0m\u001b[90m_\u001b[0m\u001b[34m2\u001b[0m\u001b[90m_\u001b[0m\u001b[34m2\u001b[0m\u001b[90m_\u001b[0m\u001b[33m4\u001b[0m\u001b[90m\u001b[0m                          arg  5 mem  0.08 GB tm   1624.26us/  3224.05ms (     3.15 GFLOPS    5.5|5.5     GB/s) ['relu', 'max_pool2d bw']\n",
      "*** CLANG     36 E_\u001b[34m128\u001b[0m\u001b[90m_\u001b[0m\u001b[34m16\u001b[0m\u001b[90m_\u001b[0m\u001b[34m11\u001b[0m\u001b[90m_\u001b[0m\u001b[34m11\u001b[0m\u001b[90m_\u001b[0m\u001b[33m4\u001b[0m\u001b[90m\u001b[0m                          arg  3 mem  0.08 GB tm   1158.81us/  3225.20ms (     3.42 GFLOPS    9.7|10.3    GB/s) ['relu', 'relu bw']\n",
      "*** CLANG     37 r_\u001b[34m32\u001b[0m\u001b[90m_\u001b[0m\u001b[34m32\u001b[0m\u001b[90m_\u001b[0m\u001b[34m121\u001b[0m\u001b[90m_\u001b[0m\u001b[34m3\u001b[0m\u001b[90m_\u001b[0m\u001b[31m16\u001b[0m\u001b[90m_\u001b[0m\u001b[33m3\u001b[0m\u001b[90m_\u001b[0m\u001b[33m4\u001b[0m\u001b[90m_\u001b[0m\u001b[35m4\u001b[0m\u001b[90m\u001b[0m                    arg  3 mem  0.09 GB tm \u001b[33m   166.84ms\u001b[0m/  3392.05ms (     3.42 GFLOPS    0.1|4.1     GB/s) ['conv2d bw']\n",
      "*** CLANG     38 r3_\u001b[34m64\u001b[0m\u001b[90m_\u001b[0m\u001b[31m128\u001b[0m\u001b[90m_\u001b[0m\u001b[31m121\u001b[0m\u001b[90mn1\u001b[0m                           arg  7 mem  0.09 GB tm   1590.40us/  3393.64ms (     0.62 GFLOPS    2.5|2.5     GB/s) ['__rmul__', 'conv2d bw', '__add__', 'assign', '__mul__', '__truediv__', 'sqrt', '__sub__']\n",
      "*** CLANG     39 r3_\u001b[34m16\u001b[0m\u001b[90m_\u001b[0m\u001b[34m32\u001b[0m\u001b[90m_\u001b[0m\u001b[34m3\u001b[0m\u001b[90m_\u001b[0m\u001b[31m128\u001b[0m\u001b[90m_\u001b[0m\u001b[31m11\u001b[0m\u001b[90m_\u001b[0m\u001b[33m3\u001b[0m\u001b[90m_\u001b[0m\u001b[33m4\u001b[0m\u001b[90m_\u001b[0m\u001b[35m11\u001b[0m\u001b[90mn1\u001b[0m                arg  8 mem  0.09 GB tm \u001b[33m   130.50ms\u001b[0m/  3524.14ms (     4.38 GFLOPS    0.1|3.8     GB/s) ['__rmul__', 'conv2d bw', '__add__', 'assign', '__mul__', '__truediv__', 'sqrt', '__sub__']\n",
      "*** CLANG     40 r_\u001b[34m4096\u001b[0m\u001b[90m_\u001b[0m\u001b[34m13\u001b[0m\u001b[90m_\u001b[0m\u001b[34m13\u001b[0m\u001b[90m_\u001b[0m\u001b[31m4\u001b[0m\u001b[90m_\u001b[0m\u001b[35m4\u001b[0m\u001b[90m\u001b[0m                          arg  2 mem  0.10 GB tm   9213.58us/  3533.35ms (     0.90 GFLOPS    2.2|3.9     GB/s) ['conv2d bw']\n",
      "*** CLANG     41 E_\u001b[34m1024\u001b[0m\u001b[90m_\u001b[0m\u001b[34m26\u001b[0m\u001b[90m_\u001b[0m\u001b[34m26\u001b[0m\u001b[90m_\u001b[0m\u001b[33m4\u001b[0m\u001b[90m\u001b[0m                            arg  5 mem  0.09 GB tm   5465.98us/  3538.82ms (     4.56 GFLOPS    5.6|10.1    GB/s) ['relu', 'relu bw', 'max_pool2d bw']\n",
      "*** CLANG     42 r_\u001b[34m8\u001b[0m\u001b[90m_\u001b[0m\u001b[34m3\u001b[0m\u001b[90m_\u001b[0m\u001b[34m128\u001b[0m\u001b[90m_\u001b[0m\u001b[31m26\u001b[0m\u001b[90m_\u001b[0m\u001b[33m3\u001b[0m\u001b[90m_\u001b[0m\u001b[33m4\u001b[0m\u001b[90m_\u001b[0m\u001b[35m26\u001b[0m\u001b[90m\u001b[0m                       arg  3 mem  0.07 GB tm \u001b[33m    11.97ms\u001b[0m/  3550.79ms (     4.16 GFLOPS    0.9|3.0     GB/s) ['conv2d', 'conv2d bw']\n",
      "*** CLANG     43 r_\u001b[34m32\u001b[0m\u001b[90m_\u001b[0m\u001b[34m128\u001b[0m\u001b[90m_\u001b[0m\u001b[31m169\u001b[0m\u001b[90m_\u001b[0m\u001b[35m4\u001b[0m\u001b[90m\u001b[0m                            arg  2 mem  0.07 GB tm   4223.74us/  3555.01ms (     0.66 GFLOPS    2.6|2.6     GB/s) ['conv2d bw']\n",
      "*** CLANG     44 r3_\u001b[34m288\u001b[0m\u001b[90m_\u001b[0m\u001b[31m32\u001b[0m\u001b[90m_\u001b[0m\u001b[35m4\u001b[0m\u001b[90mn1\u001b[0m                             arg  7 mem  0.06 GB tm     51.63us/  3555.07ms (     0.80 GFLOPS    3.0|3.0     GB/s) ['__rmul__', 'conv2d bw', '__add__', 'assign', '__mul__', '__truediv__', 'sqrt', '__sub__']\n",
      "*** CLANG     45 r3_\u001b[34m32\u001b[0m\u001b[90m_\u001b[0m\u001b[31m32\u001b[0m\u001b[90m_\u001b[0m\u001b[35m4\u001b[0m\u001b[90mn1\u001b[0m                              arg  7 mem  0.06 GB tm      9.12us/  3555.07ms (     0.50 GFLOPS    1.9|1.9     GB/s) ['__rmul__', 'conv2d bw', '__add__', 'assign', '__mul__', '__truediv__', 'sqrt', '__sub__']\n"
     ]
    }
   ],
   "source": [
    "from tinygrad import GlobalCounters, Context\n",
    "GlobalCounters.reset()\n",
    "with Context(DEBUG=2): step()"
   ]
  },
  {
   "cell_type": "code",
   "execution_count": 9,
   "metadata": {},
   "outputs": [],
   "source": [
    "from tinygrad import TinyJit\n",
    "jit_step = TinyJit(step)"
   ]
  },
  {
   "cell_type": "code",
   "execution_count": 10,
   "metadata": {},
   "outputs": [
    {
     "data": {
      "text/plain": [
       "[3.9964950480498374,\n",
       " 3.7686408278532326,\n",
       " 3.5536490818485618,\n",
       " 4.27838852093555,\n",
       " 3.5634236389305443]"
      ]
     },
     "execution_count": 10,
     "metadata": {},
     "output_type": "execute_result"
    }
   ],
   "source": [
    "import timeit\n",
    "timeit.repeat(jit_step, repeat=5, number=1)"
   ]
  },
  {
   "cell_type": "code",
   "execution_count": 11,
   "metadata": {},
   "outputs": [
    {
     "name": "stdout",
     "output_type": "stream",
     "text": [
      "step    0, loss 4.21, acc 71.44%\n",
      "step  100, loss 0.39, acc 94.09%\n",
      "step  200, loss 0.31, acc 96.27%\n",
      "step  300, loss 0.13, acc 97.08%\n",
      "step  400, loss 0.25, acc 97.39%\n",
      "step  500, loss 0.13, acc 97.62%\n",
      "step  600, loss 0.14, acc 97.65%\n",
      "step  700, loss 0.12, acc 98.13%\n",
      "step  800, loss 0.16, acc 97.71%\n",
      "step  900, loss 0.27, acc 98.14%\n",
      "step 1000, loss 0.17, acc 97.92%\n",
      "step 1100, loss 0.26, acc 98.15%\n",
      "step 1200, loss 0.18, acc 98.00%\n",
      "step 1300, loss 0.13, acc 97.88%\n",
      "step 1400, loss 0.13, acc 98.14%\n"
     ]
    }
   ],
   "source": [
    "for step in range(1500):\n",
    "  loss = jit_step()\n",
    "  if step%100 == 0:\n",
    "    Tensor.training = False\n",
    "    acc = (model(X_test).argmax(axis=1) == Y_test).mean().item()\n",
    "    print(f\"step {step:4d}, loss {loss.item():.2f}, acc {acc*100.:.2f}%\")"
   ]
  }
 ],
 "metadata": {
  "kernelspec": {
   "display_name": "env",
   "language": "python",
   "name": "python3"
  },
  "language_info": {
   "codemirror_mode": {
    "name": "ipython",
    "version": 3
   },
   "file_extension": ".py",
   "mimetype": "text/x-python",
   "name": "python",
   "nbconvert_exporter": "python",
   "pygments_lexer": "ipython3",
   "version": "3.10.11"
  }
 },
 "nbformat": 4,
 "nbformat_minor": 2
}
