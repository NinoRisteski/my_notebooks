{
 "cells": [
  {
   "cell_type": "code",
   "execution_count": 1,
   "metadata": {},
   "outputs": [
    {
     "name": "stdout",
     "output_type": "stream",
     "text": [
      "Collecting git+https://github.com/tinygrad/tinygrad.git\n",
      "  Cloning https://github.com/tinygrad/tinygrad.git to /private/var/folders/x4/ygyvps6n5rdf76sm9_9t__gw0000gn/T/pip-req-build-4lkf1e94\n",
      "  Running command git clone --filter=blob:none --quiet https://github.com/tinygrad/tinygrad.git /private/var/folders/x4/ygyvps6n5rdf76sm9_9t__gw0000gn/T/pip-req-build-4lkf1e94\n",
      "  Resolved https://github.com/tinygrad/tinygrad.git to commit 07ec99001a97098bdb0cd5ab484137eddf3d16b5\n",
      "  Preparing metadata (setup.py) ... \u001b[?25ldone\n",
      "\u001b[?25h\n",
      "\u001b[1m[\u001b[0m\u001b[34;49mnotice\u001b[0m\u001b[1;39;49m]\u001b[0m\u001b[39;49m A new release of pip is available: \u001b[0m\u001b[31;49m24.0\u001b[0m\u001b[39;49m -> \u001b[0m\u001b[32;49m24.3.1\u001b[0m\n",
      "\u001b[1m[\u001b[0m\u001b[34;49mnotice\u001b[0m\u001b[1;39;49m]\u001b[0m\u001b[39;49m To update, run: \u001b[0m\u001b[32;49mpip install --upgrade pip\u001b[0m\n",
      "Note: you may need to restart the kernel to use updated packages.\n"
     ]
    }
   ],
   "source": [
    "%pip install git+https://github.com/tinygrad/tinygrad.git\n"
   ]
  },
  {
   "cell_type": "code",
   "execution_count": 2,
   "metadata": {},
   "outputs": [
    {
     "name": "stdout",
     "output_type": "stream",
     "text": [
      "CLANG\n"
     ]
    }
   ],
   "source": [
    "from tinygrad import Device\n",
    "Device.DEFAULT = \"CLANG\" \n",
    "print(Device.DEFAULT)"
   ]
  },
  {
   "cell_type": "code",
   "execution_count": 3,
   "metadata": {},
   "outputs": [],
   "source": [
    "from tinygrad import Tensor, nn\n",
    "\n",
    "class Model:\n",
    "  def __init__(self):\n",
    "    self.l1 = nn.Conv2d(1, 32, kernel_size=(3,3))\n",
    "    self.l2 = nn.Conv2d(32, 64, kernel_size=(3,3))\n",
    "    self.l3 = nn.Linear(1600, 10)\n",
    "\n",
    "  def __call__(self, x:Tensor) -> Tensor:\n",
    "    x = self.l1(x).relu().max_pool2d((2,2))\n",
    "    x = self.l2(x).relu().max_pool2d((2,2))\n",
    "    return self.l3(x.flatten(1).dropout(0.5))"
   ]
  },
  {
   "cell_type": "code",
   "execution_count": 4,
   "metadata": {},
   "outputs": [
    {
     "name": "stdout",
     "output_type": "stream",
     "text": [
      "(60000, 1, 28, 28) dtypes.uchar (60000,) dtypes.uchar\n"
     ]
    }
   ],
   "source": [
    "from tinygrad.nn.datasets import mnist\n",
    "X_train, Y_train, X_test, Y_test = mnist()\n",
    "print(X_train.shape, X_train.dtype, Y_train.shape, Y_train.dtype)\n",
    "# (60000, 1, 28, 28) dtypes.uchar (60000,) dtypes.uchar"
   ]
  },
  {
   "cell_type": "code",
   "execution_count": 5,
   "metadata": {},
   "outputs": [
    {
     "name": "stdout",
     "output_type": "stream",
     "text": [
      "0.08509999513626099\n"
     ]
    }
   ],
   "source": [
    "model = Model()\n",
    "acc = (model(X_test).argmax(axis=1) == Y_test).mean()\n",
    "# NOTE: tinygrad is lazy, and hasn't actually run anything by this point\n",
    "print(acc.item())  # ~10% accuracy, as expected from a random model"
   ]
  },
  {
   "cell_type": "code",
   "execution_count": 6,
   "metadata": {},
   "outputs": [],
   "source": [
    "optim = nn.optim.Adam(nn.state.get_parameters(model))\n",
    "batch_size = 128\n",
    "def step():\n",
    "  Tensor.training = True  # makes dropout work\n",
    "  samples = Tensor.randint(batch_size, high=X_train.shape[0])\n",
    "  X, Y = X_train[samples], Y_train[samples]\n",
    "  optim.zero_grad()\n",
    "  loss = model(X).sparse_categorical_crossentropy(Y).backward()\n",
    "  optim.step()\n",
    "  return loss"
   ]
  },
  {
   "cell_type": "code",
   "execution_count": 7,
   "metadata": {},
   "outputs": [
    {
     "data": {
      "text/plain": [
       "[12.849196879193187,\n",
       " 4.837077775038779,\n",
       " 3.8938264248427004,\n",
       " 3.8316094540059566,\n",
       " 3.9391237311065197]"
      ]
     },
     "execution_count": 7,
     "metadata": {},
     "output_type": "execute_result"
    }
   ],
   "source": [
    "import timeit\n",
    "timeit.repeat(step, repeat=5, number=1)\n",
    "#[0.08268719699981375,\n",
    "# 0.07478952900009972,\n",
    "# 0.07714716600003158,\n",
    "# 0.07785399599970333,\n",
    "# 0.07605237000007037]"
   ]
  },
  {
   "cell_type": "code",
   "execution_count": 8,
   "metadata": {},
   "outputs": [
    {
     "name": "stdout",
     "output_type": "stream",
     "text": [
      "scheduled 45 kernels\n",
      "*** CLANG      1 E_\u001b[90mn11\u001b[0m                                     arg  1 mem  0.06 GB tm      5.65us/     0.01ms (     0.00 GFLOPS    0.0|0.0     GB/s) ['__imul__']\n",
      "*** CLANG      2 E_\u001b[90mn12\u001b[0m                                     arg  1 mem  0.06 GB tm      2.90us/     0.01ms (     0.00 GFLOPS    0.0|0.0     GB/s) ['__imul__']\n",
      "*** CLANG      3 E_\u001b[90mn6\u001b[0m                                      arg  1 mem  0.06 GB tm      2.25us/     0.01ms (     0.00 GFLOPS    0.0|0.0     GB/s) ['randint']\n",
      "*** CLANG      4 r_\u001b[34m20000\u001b[0m\u001b[90m_\u001b[0m\u001b[31m15000\u001b[0m\u001b[90m_\u001b[0m\u001b[33m3\u001b[0m\u001b[90m_\u001b[0m\u001b[35m4\u001b[0m\u001b[90m\u001b[0m                         arg  1 mem  0.06 GB tm     24.36us/     0.04ms (     0.00 GFLOPS    9.9|9.9     GB/s) ['__getitem__']\n",
      "*** CLANG      5 r_\u001b[34m10\u001b[0m\u001b[90m_\u001b[0m\u001b[35m10\u001b[0m\u001b[90mn1\u001b[0m                                 arg  1 mem  0.06 GB tm      2.29us/     0.04ms (     0.15 GFLOPS    0.0|0.0     GB/s) ['sparse_categorical_crossentropy']\n",
      "*** CLANG      6 E_\u001b[90mn10\u001b[0m                                     arg  2 mem  0.06 GB tm      2.50us/     0.04ms (     0.00 GFLOPS    0.0|0.0     GB/s) ['__rsub__']\n",
      "*** CLANG      7 E_\u001b[90mn10\u001b[0m                                     arg  2 mem  0.06 GB tm      1.96us/     0.04ms (     0.00 GFLOPS    0.0|0.0     GB/s) ['__rsub__']\n",
      "*** CLANG      8 E_\u001b[90mn9\u001b[0m                                      arg  2 mem  0.06 GB tm      1.96us/     0.04ms (     0.00 GFLOPS    0.0|0.0     GB/s) ['dropout']\n",
      "*** CLANG      9 r_\u001b[34m64\u001b[0m\u001b[90m_\u001b[0m\u001b[31m16\u001b[0m\u001b[90m_\u001b[0m\u001b[35m4\u001b[0m\u001b[90m\u001b[0m                                 arg  2 mem  0.06 GB tm      2.66us/     0.05ms (     0.31 GFLOPS    0.1|0.1     GB/s) ['randint']\n",
      "*** CLANG     10 r_\u001b[34m25600\u001b[0m\u001b[90m_\u001b[0m\u001b[31m25600\u001b[0m\u001b[90m_\u001b[0m\u001b[33m4\u001b[0m\u001b[90m_\u001b[0m\u001b[35m4\u001b[0m\u001b[90m\u001b[0m                         arg  2 mem  0.06 GB tm     48.23us/     0.09ms (     9.02 GFLOPS    8.5|8.5     GB/s) ['dropout']\n",
      "*** CLANG     11 E_\u001b[34m16\u001b[0m\u001b[90m_\u001b[0m\u001b[33m4\u001b[0m\u001b[90mn3\u001b[0m                                  arg  3 mem  0.06 GB tm      4.19us/     0.10ms (     2.25 GFLOPS    0.1|0.1     GB/s) ['randint']\n",
      "*** CLANG     12 E_\u001b[34m25600\u001b[0m\u001b[90m_\u001b[0m\u001b[33m4\u001b[0m\u001b[90m\u001b[0m                                 arg  3 mem  0.06 GB tm    346.84us/     0.45ms (    43.40 GFLOPS    2.4|2.4     GB/s) ['dropout']\n",
      "*** CLANG     13 E_\u001b[34m32\u001b[0m\u001b[90m_\u001b[0m\u001b[33m4\u001b[0m\u001b[90m\u001b[0m                                    arg  4 mem  0.06 GB tm      4.10us/     0.45ms (     4.49 GFLOPS    0.3|0.4     GB/s) ['randint']\n",
      "*** CLANG     14 E_\u001b[34m128\u001b[0m\u001b[90m_\u001b[0m\u001b[34m400\u001b[0m\u001b[90m_\u001b[0m\u001b[33m4\u001b[0m\u001b[90m\u001b[0m                               arg  4 mem  0.06 GB tm   2379.48us/     2.83ms (    12.31 GFLOPS    0.4|0.8     GB/s) ['dropout']\n",
      "*** CLANG     15 E_\u001b[34m32\u001b[0m\u001b[90m_\u001b[0m\u001b[33m4\u001b[0m\u001b[90mn1\u001b[0m                                  arg  2 mem  0.06 GB tm      2.81us/     2.83ms (     0.18 GFLOPS    0.4|0.4     GB/s) ['randint', '__getitem__']\n",
      "*** CLANG     16 r_\u001b[34m32\u001b[0m\u001b[90m_\u001b[0m\u001b[34m196\u001b[0m\u001b[90m_\u001b[0m\u001b[34m40\u001b[0m\u001b[90m_\u001b[0m\u001b[31m375\u001b[0m\u001b[90m_\u001b[0m\u001b[33m4\u001b[0m\u001b[90m_\u001b[0m\u001b[33m4\u001b[0m\u001b[90m_\u001b[0m\u001b[35m4\u001b[0m\u001b[90m\u001b[0m                     arg  4 mem  0.06 GB tm \u001b[33m  3769.14ms\u001b[0m/  3771.97ms (     3.99 GFLOPS    0.0|0.8     GB/s) ['__getitem__']\n",
      "*** CLANG     17 r_\u001b[34m32\u001b[0m\u001b[90m_\u001b[0m\u001b[34m250\u001b[0m\u001b[90m_\u001b[0m\u001b[31m60\u001b[0m\u001b[90m_\u001b[0m\u001b[33m4\u001b[0m\u001b[90m_\u001b[0m\u001b[35m4\u001b[0m\u001b[90m\u001b[0m                           arg  4 mem  0.06 GB tm   2886.44us/  3774.86ms (    10.64 GFLOPS    0.1|3.3     GB/s) ['__getitem__']\n",
      "*** CLANG     18 r_\u001b[34m100352\u001b[0m\u001b[90m_\u001b[0m\u001b[31m10\u001b[0m\u001b[90m_\u001b[0m\u001b[35m4\u001b[0m\u001b[90m\u001b[0m                             arg  2 mem  0.06 GB tm   1333.86us/  3776.19ms (     3.01 GFLOPS    3.1|3.1     GB/s) ['__getitem__']\n",
      "*** CLANG     19 r_\u001b[34m128\u001b[0m\u001b[90m_\u001b[0m\u001b[31m250\u001b[0m\u001b[90m\u001b[0m                                 arg  2 mem  0.06 GB tm     12.18us/  3776.20ms (     2.63 GFLOPS    2.7|2.7     GB/s) ['__getitem__', 'sparse_categorical_crossentropy']\n",
      "*** CLANG     20 r_\u001b[34m32\u001b[0m\u001b[90m_\u001b[0m\u001b[34m8\u001b[0m\u001b[90m_\u001b[0m\u001b[34m26\u001b[0m\u001b[90m_\u001b[0m\u001b[34m26\u001b[0m\u001b[90m_\u001b[0m\u001b[33m4\u001b[0m\u001b[90m_\u001b[0m\u001b[33m4\u001b[0m\u001b[90m_\u001b[0m\u001b[35m3\u001b[0m\u001b[90m_\u001b[0m\u001b[35m3\u001b[0m\u001b[90m\u001b[0m                      arg  4 mem  0.07 GB tm   3183.01us/  3779.39ms (    15.66 GFLOPS    3.5|5.4     GB/s) ['conv2d']\n",
      "*** CLANG     21 r_\u001b[34m13312\u001b[0m\u001b[90m_\u001b[0m\u001b[34m13\u001b[0m\u001b[90m_\u001b[0m\u001b[33m4\u001b[0m\u001b[90m_\u001b[0m\u001b[35m2\u001b[0m\u001b[90m_\u001b[0m\u001b[35m2\u001b[0m\u001b[90m\u001b[0m                          arg  2 mem  0.07 GB tm   1757.41us/  3781.15ms (     5.51 GFLOPS    7.9|7.9     GB/s) ['relu', 'max_pool2d']\n",
      "*** CLANG     22 r_\u001b[34m13312\u001b[0m\u001b[90m_\u001b[0m\u001b[34m13\u001b[0m\u001b[90m_\u001b[0m\u001b[33m4\u001b[0m\u001b[90m_\u001b[0m\u001b[35m2\u001b[0m\u001b[90m_\u001b[0m\u001b[35m2\u001b[0m\u001b[90mn1\u001b[0m                        arg  3 mem  0.07 GB tm   2783.67us/  3783.93ms (     4.72 GFLOPS    6.0|6.0     GB/s) ['relu', 'max_pool2d bw']\n",
      "*** CLANG     23 r_\u001b[34m32\u001b[0m\u001b[90m_\u001b[0m\u001b[34m16\u001b[0m\u001b[90m_\u001b[0m\u001b[34m11\u001b[0m\u001b[90m_\u001b[0m\u001b[34m11\u001b[0m\u001b[90m_\u001b[0m\u001b[31m32\u001b[0m\u001b[90m_\u001b[0m\u001b[33m4\u001b[0m\u001b[90m_\u001b[0m\u001b[33m4\u001b[0m\u001b[90m_\u001b[0m\u001b[35m3\u001b[0m\u001b[90m_\u001b[0m\u001b[35m3\u001b[0m\u001b[90m\u001b[0m                  arg  4 mem  0.08 GB tm \u001b[33m   142.41ms\u001b[0m/  3926.34ms (     4.02 GFLOPS    0.0|4.0     GB/s) ['conv2d']\n",
      "*** CLANG     24 r_\u001b[34m2048\u001b[0m\u001b[90m_\u001b[0m\u001b[34m5\u001b[0m\u001b[90m_\u001b[0m\u001b[34m5\u001b[0m\u001b[90m_\u001b[0m\u001b[33m4\u001b[0m\u001b[90m_\u001b[0m\u001b[35m2\u001b[0m\u001b[90m_\u001b[0m\u001b[35m2\u001b[0m\u001b[90m\u001b[0m                          arg  2 mem  0.08 GB tm    563.13us/  3926.90ms (     5.09 GFLOPS    7.3|7.3     GB/s) ['relu', 'max_pool2d']\n",
      "*** CLANG     25 r_\u001b[34m2048\u001b[0m\u001b[90m_\u001b[0m\u001b[34m5\u001b[0m\u001b[90m_\u001b[0m\u001b[34m5\u001b[0m\u001b[90m_\u001b[0m\u001b[33m4\u001b[0m\u001b[90m_\u001b[0m\u001b[35m2\u001b[0m\u001b[90m_\u001b[0m\u001b[35m2\u001b[0m\u001b[90mn1\u001b[0m                        arg  3 mem  0.08 GB tm    804.79us/  3927.71ms (     4.84 GFLOPS    6.1|6.1     GB/s) ['relu', 'max_pool2d bw']\n",
      "*** CLANG     26 E_\u001b[34m51200\u001b[0m\u001b[90m_\u001b[0m\u001b[33m4\u001b[0m\u001b[90m\u001b[0m                                 arg  3 mem  0.08 GB tm     98.16us/  3927.80ms (     4.17 GFLOPS   18.8|18.8    GB/s) ['dropout']\n",
      "*** CLANG     27 r_\u001b[34m32\u001b[0m\u001b[90m_\u001b[0m\u001b[34m10\u001b[0m\u001b[90m_\u001b[0m\u001b[31m400\u001b[0m\u001b[90m_\u001b[0m\u001b[33m4\u001b[0m\u001b[90m_\u001b[0m\u001b[35m4\u001b[0m\u001b[90m\u001b[0m                           arg  4 mem  0.08 GB tm    817.43us/  3928.62ms (     5.01 GFLOPS    1.1|12.5    GB/s) ['linear']\n",
      "*** CLANG     28 r_\u001b[34m128\u001b[0m\u001b[90m_\u001b[0m\u001b[35m10\u001b[0m\u001b[90m\u001b[0m                                  arg  2 mem  0.08 GB tm      3.56us/  3928.63ms (     0.65 GFLOPS    1.6|1.6     GB/s) ['sparse_categorical_crossentropy']\n",
      "*** CLANG     29 r_\u001b[34m128\u001b[0m\u001b[90m_\u001b[0m\u001b[35m10\u001b[0m\u001b[90mn1\u001b[0m                                arg  3 mem  0.08 GB tm     15.61us/  3928.64ms (     3.19 GFLOPS    0.4|0.4     GB/s) ['sparse_categorical_crossentropy']\n",
      "*** CLANG     30 r_\u001b[34m128\u001b[0m\u001b[90m_\u001b[0m\u001b[35m10\u001b[0m\u001b[90mn2\u001b[0m                                arg  4 mem  0.08 GB tm      3.13us/  3928.64ms (     1.67 GFLOPS    0.5|0.5     GB/s) ['sparse_categorical_crossentropy', 'sparse_categorical_crossentropy bw']\n",
      "*** CLANG     31 E_\u001b[34m32\u001b[0m\u001b[90m_\u001b[0m\u001b[34m10\u001b[0m\u001b[90m_\u001b[0m\u001b[33m4\u001b[0m\u001b[90m\u001b[0m                                 arg  6 mem  0.08 GB tm      9.81us/  3928.65ms (     5.61 GFLOPS    1.2|1.3     GB/s) ['sparse_categorical_crossentropy', 'sparse_categorical_crossentropy bw', '__add__']\n",
      "*** CLANG     32 r_\u001b[34m32\u001b[0m\u001b[90m_\u001b[0m\u001b[34m400\u001b[0m\u001b[90m_\u001b[0m\u001b[33m4\u001b[0m\u001b[90m_\u001b[0m\u001b[33m4\u001b[0m\u001b[90m_\u001b[0m\u001b[35m10\u001b[0m\u001b[90m\u001b[0m                           arg  4 mem  0.08 GB tm   2563.96us/  3931.22ms (     1.68 GFLOPS    0.4|1.2     GB/s) ['linear bw', 'dropout bw']\n",
      "*** CLANG     33 r3_\u001b[34m10\u001b[0m\u001b[90m_\u001b[0m\u001b[31m32\u001b[0m\u001b[90m_\u001b[0m\u001b[35m4\u001b[0m\u001b[90mn1\u001b[0m                              arg  7 mem  0.08 GB tm      5.65us/  3931.22ms (     0.25 GFLOPS    1.0|1.0     GB/s) ['__rmul__', 'linear bw', '__add__', 'assign', '__mul__', '__truediv__', 'sqrt', '__sub__']\n",
      "*** CLANG     34 r3_\u001b[34m10\u001b[0m\u001b[90m_\u001b[0m\u001b[34m400\u001b[0m\u001b[90m_\u001b[0m\u001b[31m32\u001b[0m\u001b[90m_\u001b[0m\u001b[33m4\u001b[0m\u001b[90m_\u001b[0m\u001b[35m4\u001b[0m\u001b[90mn1\u001b[0m                        arg  8 mem  0.08 GB tm   1033.25us/  3932.26ms (     4.20 GFLOPS    1.2|10.3    GB/s) ['__rmul__', 'linear bw', '__add__', 'assign', '__mul__', '__truediv__', 'sqrt', '__sub__']\n",
      "*** CLANG     35 E_\u001b[34m2048\u001b[0m\u001b[90m_\u001b[0m\u001b[34m5\u001b[0m\u001b[90m_\u001b[0m\u001b[34m5\u001b[0m\u001b[90m_\u001b[0m\u001b[34m2\u001b[0m\u001b[90m_\u001b[0m\u001b[34m2\u001b[0m\u001b[90m_\u001b[0m\u001b[33m4\u001b[0m\u001b[90m\u001b[0m                          arg  5 mem  0.08 GB tm   1551.50us/  3933.81ms (     3.30 GFLOPS    5.8|5.8     GB/s) ['relu', 'max_pool2d bw']\n",
      "*** CLANG     36 E_\u001b[34m128\u001b[0m\u001b[90m_\u001b[0m\u001b[34m16\u001b[0m\u001b[90m_\u001b[0m\u001b[34m11\u001b[0m\u001b[90m_\u001b[0m\u001b[34m11\u001b[0m\u001b[90m_\u001b[0m\u001b[33m4\u001b[0m\u001b[90m\u001b[0m                          arg  3 mem  0.08 GB tm   1526.06us/  3935.33ms (     2.60 GFLOPS    7.3|7.8     GB/s) ['relu', 'relu bw']\n",
      "*** CLANG     37 r_\u001b[34m32\u001b[0m\u001b[90m_\u001b[0m\u001b[34m32\u001b[0m\u001b[90m_\u001b[0m\u001b[34m121\u001b[0m\u001b[90m_\u001b[0m\u001b[34m3\u001b[0m\u001b[90m_\u001b[0m\u001b[31m16\u001b[0m\u001b[90m_\u001b[0m\u001b[33m3\u001b[0m\u001b[90m_\u001b[0m\u001b[33m4\u001b[0m\u001b[90m_\u001b[0m\u001b[35m4\u001b[0m\u001b[90m\u001b[0m                    arg  3 mem  0.09 GB tm \u001b[33m   175.55ms\u001b[0m/  4110.88ms (     3.25 GFLOPS    0.1|3.9     GB/s) ['conv2d bw']\n",
      "*** CLANG     38 r3_\u001b[34m64\u001b[0m\u001b[90m_\u001b[0m\u001b[31m128\u001b[0m\u001b[90m_\u001b[0m\u001b[31m121\u001b[0m\u001b[90mn1\u001b[0m                           arg  7 mem  0.09 GB tm   1592.32us/  4112.48ms (     0.62 GFLOPS    2.5|2.5     GB/s) ['__rmul__', 'conv2d bw', '__add__', 'assign', '__mul__', '__truediv__', 'sqrt', '__sub__']\n",
      "*** CLANG     39 r3_\u001b[34m16\u001b[0m\u001b[90m_\u001b[0m\u001b[34m32\u001b[0m\u001b[90m_\u001b[0m\u001b[34m3\u001b[0m\u001b[90m_\u001b[0m\u001b[31m128\u001b[0m\u001b[90m_\u001b[0m\u001b[31m11\u001b[0m\u001b[90m_\u001b[0m\u001b[33m3\u001b[0m\u001b[90m_\u001b[0m\u001b[33m4\u001b[0m\u001b[90m_\u001b[0m\u001b[35m11\u001b[0m\u001b[90mn1\u001b[0m                arg  8 mem  0.09 GB tm \u001b[33m   134.64ms\u001b[0m/  4247.12ms (     4.24 GFLOPS    0.1|3.7     GB/s) ['__rmul__', 'conv2d bw', '__add__', 'assign', '__mul__', '__truediv__', 'sqrt', '__sub__']\n",
      "*** CLANG     40 r_\u001b[34m4096\u001b[0m\u001b[90m_\u001b[0m\u001b[34m13\u001b[0m\u001b[90m_\u001b[0m\u001b[34m13\u001b[0m\u001b[90m_\u001b[0m\u001b[31m4\u001b[0m\u001b[90m_\u001b[0m\u001b[35m4\u001b[0m\u001b[90m\u001b[0m                          arg  2 mem  0.10 GB tm   9251.35us/  4256.37ms (     0.90 GFLOPS    2.2|3.9     GB/s) ['conv2d bw']\n",
      "*** CLANG     41 E_\u001b[34m1024\u001b[0m\u001b[90m_\u001b[0m\u001b[34m26\u001b[0m\u001b[90m_\u001b[0m\u001b[34m26\u001b[0m\u001b[90m_\u001b[0m\u001b[33m4\u001b[0m\u001b[90m\u001b[0m                            arg  5 mem  0.09 GB tm   5528.14us/  4261.90ms (     4.51 GFLOPS    5.5|10.0    GB/s) ['relu', 'relu bw', 'max_pool2d bw']\n",
      "*** CLANG     42 r_\u001b[34m8\u001b[0m\u001b[90m_\u001b[0m\u001b[34m3\u001b[0m\u001b[90m_\u001b[0m\u001b[34m128\u001b[0m\u001b[90m_\u001b[0m\u001b[31m26\u001b[0m\u001b[90m_\u001b[0m\u001b[33m3\u001b[0m\u001b[90m_\u001b[0m\u001b[33m4\u001b[0m\u001b[90m_\u001b[0m\u001b[35m26\u001b[0m\u001b[90m\u001b[0m                       arg  3 mem  0.07 GB tm \u001b[33m    11.24ms\u001b[0m/  4273.14ms (     4.43 GFLOPS    1.0|3.2     GB/s) ['conv2d', 'conv2d bw']\n",
      "*** CLANG     43 r_\u001b[34m32\u001b[0m\u001b[90m_\u001b[0m\u001b[34m128\u001b[0m\u001b[90m_\u001b[0m\u001b[31m169\u001b[0m\u001b[90m_\u001b[0m\u001b[35m4\u001b[0m\u001b[90m\u001b[0m                            arg  2 mem  0.07 GB tm   4266.79us/  4277.41ms (     0.65 GFLOPS    2.6|2.6     GB/s) ['conv2d bw']\n",
      "*** CLANG     44 r3_\u001b[34m288\u001b[0m\u001b[90m_\u001b[0m\u001b[31m32\u001b[0m\u001b[90m_\u001b[0m\u001b[35m4\u001b[0m\u001b[90mn1\u001b[0m                             arg  7 mem  0.06 GB tm     51.74us/  4277.46ms (     0.80 GFLOPS    3.0|3.0     GB/s) ['__rmul__', 'conv2d bw', '__add__', 'assign', '__mul__', '__truediv__', 'sqrt', '__sub__']\n",
      "*** CLANG     45 r3_\u001b[34m32\u001b[0m\u001b[90m_\u001b[0m\u001b[31m32\u001b[0m\u001b[90m_\u001b[0m\u001b[35m4\u001b[0m\u001b[90mn1\u001b[0m                              arg  7 mem  0.06 GB tm      9.00us/  4277.47ms (     0.51 GFLOPS    1.9|1.9     GB/s) ['__rmul__', 'conv2d bw', '__add__', 'assign', '__mul__', '__truediv__', 'sqrt', '__sub__']\n"
     ]
    }
   ],
   "source": [
    "from tinygrad import GlobalCounters, Context\n",
    "GlobalCounters.reset()\n",
    "with Context(DEBUG=2): step()"
   ]
  },
  {
   "cell_type": "code",
   "execution_count": 9,
   "metadata": {},
   "outputs": [],
   "source": [
    "from tinygrad import TinyJit\n",
    "jit_step = TinyJit(step)"
   ]
  },
  {
   "cell_type": "code",
   "execution_count": 10,
   "metadata": {},
   "outputs": [
    {
     "data": {
      "text/plain": [
       "[4.839767877943814,\n",
       " 4.177499732002616,\n",
       " 3.759829655988142,\n",
       " 3.783605223055929,\n",
       " 3.144151008920744]"
      ]
     },
     "execution_count": 10,
     "metadata": {},
     "output_type": "execute_result"
    }
   ],
   "source": [
    "import timeit\n",
    "timeit.repeat(jit_step, repeat=5, number=1)\n",
    "# [0.2596786549997887,\n",
    "#  0.08989566299987928,\n",
    "#  0.0012115650001760514,\n",
    "#  0.001010227999813651,\n",
    "#  0.0012164899999334011]"
   ]
  },
  {
   "cell_type": "code",
   "execution_count": 11,
   "metadata": {},
   "outputs": [
    {
     "name": "stdout",
     "output_type": "stream",
     "text": [
      "step    0, loss 2.87, acc 73.23%\n",
      "step  100, loss 0.28, acc 95.23%\n",
      "step  200, loss 0.10, acc 96.73%\n",
      "step  300, loss 0.09, acc 97.44%\n",
      "step  400, loss 0.10, acc 97.58%\n",
      "step  500, loss 0.16, acc 97.80%\n",
      "step  600, loss 0.04, acc 97.96%\n",
      "step  700, loss 0.05, acc 97.97%\n",
      "step  800, loss 0.15, acc 97.93%\n",
      "step  900, loss 0.16, acc 98.01%\n",
      "step 1000, loss 0.05, acc 98.03%\n",
      "step 1100, loss 0.15, acc 98.17%\n",
      "step 1200, loss 0.18, acc 97.85%\n",
      "step 1300, loss 0.21, acc 98.09%\n",
      "step 1400, loss 0.13, acc 98.28%\n",
      "step 1500, loss 0.09, acc 98.37%\n",
      "step 1600, loss 0.07, acc 98.38%\n",
      "step 1700, loss 0.13, acc 98.60%\n",
      "step 1800, loss 0.15, acc 98.31%\n",
      "step 1900, loss 0.10, acc 98.41%\n",
      "step 2000, loss 0.11, acc 98.45%\n",
      "step 2100, loss 0.18, acc 98.42%\n"
     ]
    },
    {
     "ename": "KeyboardInterrupt",
     "evalue": "",
     "output_type": "error",
     "traceback": [
      "\u001b[0;31m---------------------------------------------------------------------------\u001b[0m",
      "\u001b[0;31mKeyboardInterrupt\u001b[0m                         Traceback (most recent call last)",
      "Cell \u001b[0;32mIn[11], line 2\u001b[0m\n\u001b[1;32m      1\u001b[0m \u001b[38;5;28;01mfor\u001b[39;00m step \u001b[38;5;129;01min\u001b[39;00m \u001b[38;5;28mrange\u001b[39m(\u001b[38;5;241m7000\u001b[39m):\n\u001b[0;32m----> 2\u001b[0m   loss \u001b[38;5;241m=\u001b[39m \u001b[43mjit_step\u001b[49m\u001b[43m(\u001b[49m\u001b[43m)\u001b[49m\n\u001b[1;32m      3\u001b[0m   \u001b[38;5;28;01mif\u001b[39;00m step\u001b[38;5;241m%\u001b[39m\u001b[38;5;241m100\u001b[39m \u001b[38;5;241m==\u001b[39m \u001b[38;5;241m0\u001b[39m:\n\u001b[1;32m      4\u001b[0m     Tensor\u001b[38;5;241m.\u001b[39mtraining \u001b[38;5;241m=\u001b[39m \u001b[38;5;28;01mFalse\u001b[39;00m\n",
      "File \u001b[0;32m/Library/Frameworks/Python.framework/Versions/3.10/lib/python3.10/site-packages/tinygrad/engine/jit.py:308\u001b[0m, in \u001b[0;36mTinyJit.__call__\u001b[0;34m(self, *args, **kwargs)\u001b[0m\n\u001b[1;32m    305\u001b[0m   \u001b[38;5;28;01massert\u001b[39;00m \u001b[38;5;28mself\u001b[39m\u001b[38;5;241m.\u001b[39mcaptured\u001b[38;5;241m.\u001b[39mexpected_names \u001b[38;5;241m==\u001b[39m names, \u001b[38;5;124mf\u001b[39m\u001b[38;5;124m\"\u001b[39m\u001b[38;5;124margs mismatch in JIT: \u001b[39m\u001b[38;5;132;01m{\u001b[39;00m\u001b[38;5;28mself\u001b[39m\u001b[38;5;241m.\u001b[39mcaptured\u001b[38;5;241m.\u001b[39mexpected_names\u001b[38;5;132;01m=}\u001b[39;00m\u001b[38;5;124m != \u001b[39m\u001b[38;5;132;01m{\u001b[39;00mnames\u001b[38;5;132;01m}\u001b[39;00m\u001b[38;5;124m\"\u001b[39m\n\u001b[1;32m    306\u001b[0m   \u001b[38;5;28;01massert\u001b[39;00m \u001b[38;5;28mself\u001b[39m\u001b[38;5;241m.\u001b[39mcaptured\u001b[38;5;241m.\u001b[39mexpected_st_vars_dtype_device \u001b[38;5;241m==\u001b[39m st_vars_dtype_device, \\\n\u001b[1;32m    307\u001b[0m     \u001b[38;5;124mf\u001b[39m\u001b[38;5;124m\"\u001b[39m\u001b[38;5;124margs mismatch in JIT: \u001b[39m\u001b[38;5;132;01m{\u001b[39;00m\u001b[38;5;28mself\u001b[39m\u001b[38;5;241m.\u001b[39mcaptured\u001b[38;5;241m.\u001b[39mexpected_st_vars_dtype_device\u001b[38;5;132;01m=}\u001b[39;00m\u001b[38;5;124m != \u001b[39m\u001b[38;5;132;01m{\u001b[39;00mst_vars_dtype_device\u001b[38;5;132;01m=}\u001b[39;00m\u001b[38;5;124m\"\u001b[39m\n\u001b[0;32m--> 308\u001b[0m   ret \u001b[38;5;241m=\u001b[39m \u001b[38;5;28;43mself\u001b[39;49m\u001b[38;5;241;43m.\u001b[39;49m\u001b[43mcaptured\u001b[49m\u001b[43m(\u001b[49m\u001b[43minput_buffers\u001b[49m\u001b[43m,\u001b[49m\u001b[43m \u001b[49m\u001b[43mvar_vals\u001b[49m\u001b[43m)\u001b[49m\n\u001b[1;32m    310\u001b[0m \u001b[38;5;28mself\u001b[39m\u001b[38;5;241m.\u001b[39mcnt \u001b[38;5;241m+\u001b[39m\u001b[38;5;241m=\u001b[39m \u001b[38;5;241m1\u001b[39m\n\u001b[1;32m    311\u001b[0m \u001b[38;5;28;01mreturn\u001b[39;00m ret\n",
      "File \u001b[0;32m/Library/Frameworks/Python.framework/Versions/3.10/lib/python3.10/site-packages/tinygrad/engine/jit.py:189\u001b[0m, in \u001b[0;36mCapturedJit.__call__\u001b[0;34m(self, input_buffers, var_vals)\u001b[0m\n\u001b[1;32m    186\u001b[0m   \u001b[38;5;28mself\u001b[39m\u001b[38;5;241m.\u001b[39m_first_run \u001b[38;5;241m=\u001b[39m \u001b[38;5;28;01mFalse\u001b[39;00m\n\u001b[1;32m    188\u001b[0m \u001b[38;5;28;01mif\u001b[39;00m DEBUG \u001b[38;5;241m>\u001b[39m\u001b[38;5;241m=\u001b[39m \u001b[38;5;241m1\u001b[39m \u001b[38;5;129;01mand\u001b[39;00m \u001b[38;5;28mlen\u001b[39m(\u001b[38;5;28mself\u001b[39m\u001b[38;5;241m.\u001b[39m_jit_cache) \u001b[38;5;241m>\u001b[39m\u001b[38;5;241m=\u001b[39m \u001b[38;5;241m10\u001b[39m: \u001b[38;5;28mprint\u001b[39m(\u001b[38;5;124mf\u001b[39m\u001b[38;5;124m\"\u001b[39m\u001b[38;5;124mjit execs \u001b[39m\u001b[38;5;132;01m{\u001b[39;00m\u001b[38;5;28mlen\u001b[39m(\u001b[38;5;28mself\u001b[39m\u001b[38;5;241m.\u001b[39m_jit_cache)\u001b[38;5;132;01m}\u001b[39;00m\u001b[38;5;124m kernels\u001b[39m\u001b[38;5;124m\"\u001b[39m)\n\u001b[0;32m--> 189\u001b[0m \u001b[38;5;28;01mfor\u001b[39;00m ei \u001b[38;5;129;01min\u001b[39;00m \u001b[38;5;28mself\u001b[39m\u001b[38;5;241m.\u001b[39m_jit_cache: \u001b[43mei\u001b[49m\u001b[38;5;241;43m.\u001b[39;49m\u001b[43mrun\u001b[49m\u001b[43m(\u001b[49m\u001b[43mvar_vals\u001b[49m\u001b[43m,\u001b[49m\u001b[43m \u001b[49m\u001b[43mjit\u001b[49m\u001b[38;5;241;43m=\u001b[39;49m\u001b[38;5;28;43;01mTrue\u001b[39;49;00m\u001b[43m)\u001b[49m\n\u001b[1;32m    190\u001b[0m \u001b[38;5;28mself\u001b[39m\u001b[38;5;241m.\u001b[39m_clear_inputs()\n\u001b[1;32m    191\u001b[0m \u001b[38;5;28;01mreturn\u001b[39;00m \u001b[38;5;28mself\u001b[39m\u001b[38;5;241m.\u001b[39mret\n",
      "File \u001b[0;32m/Library/Frameworks/Python.framework/Versions/3.10/lib/python3.10/site-packages/tinygrad/engine/realize.py:124\u001b[0m, in \u001b[0;36mExecItem.run\u001b[0;34m(self, _var_vals, wait, jit, do_update_stats)\u001b[0m\n\u001b[1;32m    122\u001b[0m var_vals \u001b[38;5;241m=\u001b[39m {} \u001b[38;5;28;01mif\u001b[39;00m _var_vals \u001b[38;5;129;01mis\u001b[39;00m \u001b[38;5;28;01mNone\u001b[39;00m \u001b[38;5;28;01melse\u001b[39;00m _var_vals\n\u001b[1;32m    123\u001b[0m bufs \u001b[38;5;241m=\u001b[39m [cast(Buffer, x) \u001b[38;5;28;01mfor\u001b[39;00m x \u001b[38;5;129;01min\u001b[39;00m \u001b[38;5;28mself\u001b[39m\u001b[38;5;241m.\u001b[39mbufs] \u001b[38;5;28;01mif\u001b[39;00m jit \u001b[38;5;28;01melse\u001b[39;00m [cast(Buffer, x)\u001b[38;5;241m.\u001b[39mensure_allocated() \u001b[38;5;28;01mfor\u001b[39;00m x \u001b[38;5;129;01min\u001b[39;00m \u001b[38;5;28mself\u001b[39m\u001b[38;5;241m.\u001b[39mbufs]\n\u001b[0;32m--> 124\u001b[0m et \u001b[38;5;241m=\u001b[39m \u001b[38;5;28;43mself\u001b[39;49m\u001b[38;5;241;43m.\u001b[39;49m\u001b[43mprg\u001b[49m\u001b[43m(\u001b[49m\u001b[43mbufs\u001b[49m\u001b[43m,\u001b[49m\u001b[43m \u001b[49m\u001b[43mvar_vals\u001b[49m\u001b[43m,\u001b[49m\u001b[43m \u001b[49m\u001b[43mwait\u001b[49m\u001b[38;5;241;43m=\u001b[39;49m\u001b[43mwait\u001b[49m\u001b[43m \u001b[49m\u001b[38;5;129;43;01mor\u001b[39;49;00m\u001b[43m \u001b[49m\u001b[43mDEBUG\u001b[49m\u001b[43m \u001b[49m\u001b[38;5;241;43m>\u001b[39;49m\u001b[38;5;241;43m=\u001b[39;49m\u001b[43m \u001b[49m\u001b[38;5;241;43m2\u001b[39;49m\u001b[43m)\u001b[49m\n\u001b[1;32m    125\u001b[0m \u001b[38;5;28;01mif\u001b[39;00m do_update_stats:\n\u001b[1;32m    126\u001b[0m   GlobalCounters\u001b[38;5;241m.\u001b[39mkernel_count \u001b[38;5;241m+\u001b[39m\u001b[38;5;241m=\u001b[39m \u001b[38;5;241m1\u001b[39m\n",
      "File \u001b[0;32m/Library/Frameworks/Python.framework/Versions/3.10/lib/python3.10/site-packages/tinygrad/engine/realize.py:66\u001b[0m, in \u001b[0;36mCompiledRunner.__call__\u001b[0;34m(self, rawbufs, var_vals, wait)\u001b[0m\n\u001b[1;32m     64\u001b[0m   lra[\u001b[38;5;124m'\u001b[39m\u001b[38;5;124mlocal_size\u001b[39m\u001b[38;5;124m'\u001b[39m] \u001b[38;5;241m=\u001b[39m \u001b[38;5;28mtuple\u001b[39m(local_size)\n\u001b[1;32m     65\u001b[0m   \u001b[38;5;28;01massert\u001b[39;00m \u001b[38;5;28mlen\u001b[39m(local_size) \u001b[38;5;241m==\u001b[39m \u001b[38;5;241m3\u001b[39m, \u001b[38;5;124m\"\u001b[39m\u001b[38;5;124mlocal size must have len 3\u001b[39m\u001b[38;5;124m\"\u001b[39m\n\u001b[0;32m---> 66\u001b[0m \u001b[38;5;28;01mreturn\u001b[39;00m \u001b[38;5;28;43mself\u001b[39;49m\u001b[38;5;241;43m.\u001b[39;49m\u001b[43m_prg\u001b[49m\u001b[43m(\u001b[49m\u001b[38;5;241;43m*\u001b[39;49m\u001b[43m[\u001b[49m\u001b[43mx\u001b[49m\u001b[38;5;241;43m.\u001b[39;49m\u001b[43m_buf\u001b[49m\u001b[43m \u001b[49m\u001b[38;5;28;43;01mfor\u001b[39;49;00m\u001b[43m \u001b[49m\u001b[43mx\u001b[49m\u001b[43m \u001b[49m\u001b[38;5;129;43;01min\u001b[39;49;00m\u001b[43m \u001b[49m\u001b[43mrawbufs\u001b[49m\u001b[43m]\u001b[49m\u001b[43m,\u001b[49m\u001b[43m \u001b[49m\u001b[38;5;241;43m*\u001b[39;49m\u001b[38;5;241;43m*\u001b[39;49m\u001b[43mlra\u001b[49m\u001b[43m,\u001b[49m\u001b[43m \u001b[49m\u001b[43mvals\u001b[49m\u001b[38;5;241;43m=\u001b[39;49m\u001b[38;5;28;43mtuple\u001b[39;49m\u001b[43m(\u001b[49m\u001b[43mvar_vals\u001b[49m\u001b[43m[\u001b[49m\u001b[43mk\u001b[49m\u001b[43m]\u001b[49m\u001b[43m \u001b[49m\u001b[38;5;28;43;01mfor\u001b[39;49;00m\u001b[43m \u001b[49m\u001b[43mk\u001b[49m\u001b[43m \u001b[49m\u001b[38;5;129;43;01min\u001b[39;49;00m\u001b[43m \u001b[49m\u001b[38;5;28;43mself\u001b[39;49m\u001b[38;5;241;43m.\u001b[39;49m\u001b[43mp\u001b[49m\u001b[38;5;241;43m.\u001b[39;49m\u001b[43mvars\u001b[49m\u001b[43m)\u001b[49m\u001b[43m,\u001b[49m\u001b[43m \u001b[49m\u001b[43mwait\u001b[49m\u001b[38;5;241;43m=\u001b[39;49m\u001b[43mwait\u001b[49m\u001b[43m)\u001b[49m\n",
      "File \u001b[0;32m/Library/Frameworks/Python.framework/Versions/3.10/lib/python3.10/site-packages/tinygrad/device.py:250\u001b[0m, in \u001b[0;36mCPUProgram.__call__\u001b[0;34m(self, vals, wait, *bufs)\u001b[0m\n\u001b[1;32m    244\u001b[0m \u001b[38;5;66;03m# NOTE: replace this by --target={host's triple}-elf in clang args once we only support macos sequoia and later.\u001b[39;00m\n\u001b[1;32m    245\u001b[0m \u001b[38;5;66;03m# Apple relaxes abi requirement for stack arguments to always be at least 8 byte aligned on arm64\u001b[39;00m\n\u001b[1;32m    246\u001b[0m \u001b[38;5;66;03m# https://developer.apple.com/documentation/xcode/writing-arm64-code-for-apple-platforms\u001b[39;00m\n\u001b[1;32m    247\u001b[0m \u001b[38;5;66;03m# This hack is required because clang/llvm bug doesn't allow us to just use {host's triple}+'-elf' (relocation failures)\u001b[39;00m\n\u001b[1;32m    248\u001b[0m \u001b[38;5;66;03m# The bug was fixed in https://github.com/llvm/llvm-project/commit/454cc36630296262cdb6360b60f90a64a97f7f1a but was only backported to xcode 16+\u001b[39;00m\n\u001b[1;32m    249\u001b[0m \u001b[38;5;28;01mif\u001b[39;00m platform\u001b[38;5;241m.\u001b[39mmachine() \u001b[38;5;241m==\u001b[39m \u001b[38;5;124m\"\u001b[39m\u001b[38;5;124marm64\u001b[39m\u001b[38;5;124m\"\u001b[39m \u001b[38;5;129;01mand\u001b[39;00m OSX: args \u001b[38;5;241m=\u001b[39m args[:\u001b[38;5;241m8\u001b[39m] \u001b[38;5;241m+\u001b[39m [ctypes\u001b[38;5;241m.\u001b[39mc_int64(a) \u001b[38;5;28;01mif\u001b[39;00m \u001b[38;5;28misinstance\u001b[39m(a, \u001b[38;5;28mint\u001b[39m) \u001b[38;5;28;01melse\u001b[39;00m a \u001b[38;5;28;01mfor\u001b[39;00m a \u001b[38;5;129;01min\u001b[39;00m args[\u001b[38;5;241m8\u001b[39m:]]\n\u001b[0;32m--> 250\u001b[0m \u001b[38;5;28;01mreturn\u001b[39;00m \u001b[43mcpu_time_execution\u001b[49m\u001b[43m(\u001b[49m\u001b[38;5;28;43;01mlambda\u001b[39;49;00m\u001b[43m:\u001b[49m\u001b[43m \u001b[49m\u001b[38;5;28;43mself\u001b[39;49m\u001b[38;5;241;43m.\u001b[39;49m\u001b[43mfxn\u001b[49m\u001b[43m(\u001b[49m\u001b[38;5;241;43m*\u001b[39;49m\u001b[43margs\u001b[49m\u001b[43m)\u001b[49m\u001b[43m,\u001b[49m\u001b[43m \u001b[49m\u001b[43menable\u001b[49m\u001b[38;5;241;43m=\u001b[39;49m\u001b[43mwait\u001b[49m\u001b[43m)\u001b[49m\n",
      "File \u001b[0;32m/Library/Frameworks/Python.framework/Versions/3.10/lib/python3.10/site-packages/tinygrad/helpers.py:264\u001b[0m, in \u001b[0;36mcpu_time_execution\u001b[0;34m(cb, enable)\u001b[0m\n\u001b[1;32m    262\u001b[0m \u001b[38;5;28;01mdef\u001b[39;00m \u001b[38;5;21mcpu_time_execution\u001b[39m(cb, enable):\n\u001b[1;32m    263\u001b[0m   \u001b[38;5;28;01mif\u001b[39;00m enable: st \u001b[38;5;241m=\u001b[39m time\u001b[38;5;241m.\u001b[39mperf_counter()\n\u001b[0;32m--> 264\u001b[0m   \u001b[43mcb\u001b[49m\u001b[43m(\u001b[49m\u001b[43m)\u001b[49m\n\u001b[1;32m    265\u001b[0m   \u001b[38;5;28;01mif\u001b[39;00m enable: \u001b[38;5;28;01mreturn\u001b[39;00m time\u001b[38;5;241m.\u001b[39mperf_counter()\u001b[38;5;241m-\u001b[39mst\n",
      "File \u001b[0;32m/Library/Frameworks/Python.framework/Versions/3.10/lib/python3.10/site-packages/tinygrad/device.py:250\u001b[0m, in \u001b[0;36mCPUProgram.__call__.<locals>.<lambda>\u001b[0;34m()\u001b[0m\n\u001b[1;32m    244\u001b[0m \u001b[38;5;66;03m# NOTE: replace this by --target={host's triple}-elf in clang args once we only support macos sequoia and later.\u001b[39;00m\n\u001b[1;32m    245\u001b[0m \u001b[38;5;66;03m# Apple relaxes abi requirement for stack arguments to always be at least 8 byte aligned on arm64\u001b[39;00m\n\u001b[1;32m    246\u001b[0m \u001b[38;5;66;03m# https://developer.apple.com/documentation/xcode/writing-arm64-code-for-apple-platforms\u001b[39;00m\n\u001b[1;32m    247\u001b[0m \u001b[38;5;66;03m# This hack is required because clang/llvm bug doesn't allow us to just use {host's triple}+'-elf' (relocation failures)\u001b[39;00m\n\u001b[1;32m    248\u001b[0m \u001b[38;5;66;03m# The bug was fixed in https://github.com/llvm/llvm-project/commit/454cc36630296262cdb6360b60f90a64a97f7f1a but was only backported to xcode 16+\u001b[39;00m\n\u001b[1;32m    249\u001b[0m \u001b[38;5;28;01mif\u001b[39;00m platform\u001b[38;5;241m.\u001b[39mmachine() \u001b[38;5;241m==\u001b[39m \u001b[38;5;124m\"\u001b[39m\u001b[38;5;124marm64\u001b[39m\u001b[38;5;124m\"\u001b[39m \u001b[38;5;129;01mand\u001b[39;00m OSX: args \u001b[38;5;241m=\u001b[39m args[:\u001b[38;5;241m8\u001b[39m] \u001b[38;5;241m+\u001b[39m [ctypes\u001b[38;5;241m.\u001b[39mc_int64(a) \u001b[38;5;28;01mif\u001b[39;00m \u001b[38;5;28misinstance\u001b[39m(a, \u001b[38;5;28mint\u001b[39m) \u001b[38;5;28;01melse\u001b[39;00m a \u001b[38;5;28;01mfor\u001b[39;00m a \u001b[38;5;129;01min\u001b[39;00m args[\u001b[38;5;241m8\u001b[39m:]]\n\u001b[0;32m--> 250\u001b[0m \u001b[38;5;28;01mreturn\u001b[39;00m cpu_time_execution(\u001b[38;5;28;01mlambda\u001b[39;00m: \u001b[38;5;28;43mself\u001b[39;49m\u001b[38;5;241;43m.\u001b[39;49m\u001b[43mfxn\u001b[49m\u001b[43m(\u001b[49m\u001b[38;5;241;43m*\u001b[39;49m\u001b[43margs\u001b[49m\u001b[43m)\u001b[49m, enable\u001b[38;5;241m=\u001b[39mwait)\n",
      "\u001b[0;31mKeyboardInterrupt\u001b[0m: "
     ]
    }
   ],
   "source": [
    "for step in range(7000):\n",
    "  loss = jit_step()\n",
    "  if step%100 == 0:\n",
    "    Tensor.training = False\n",
    "    acc = (model(X_test).argmax(axis=1) == Y_test).mean().item()\n",
    "    print(f\"step {step:4d}, loss {loss.item():.2f}, acc {acc*100.:.2f}%\")"
   ]
  }
 ],
 "metadata": {
  "kernelspec": {
   "display_name": "env",
   "language": "python",
   "name": "python3"
  },
  "language_info": {
   "codemirror_mode": {
    "name": "ipython",
    "version": 3
   },
   "file_extension": ".py",
   "mimetype": "text/x-python",
   "name": "python",
   "nbconvert_exporter": "python",
   "pygments_lexer": "ipython3",
   "version": "3.10.11"
  }
 },
 "nbformat": 4,
 "nbformat_minor": 2
}
